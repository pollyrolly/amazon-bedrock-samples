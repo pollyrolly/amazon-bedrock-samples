{
 "cells": [
  {
   "cell_type": "code",
   "execution_count": 42,
   "metadata": {},
   "outputs": [],
   "source": [
    "event = {'ExecutionArn': 'arn:aws:states:us-west-2:266726630905:execution:MyStateMachine-onquymonq:14a944c1-84ef-44e5-8d3b-e1b6c42740d1', 'SdkHttpMetadata': {'AllHttpHeaders': {'x-amzn-RequestId': ['db610605-fa66-4754-bd68-4658e824537a'], 'connection': ['keep-alive'], 'Content-Length': ['156'], 'Date': ['Wed, 19 Jun 2024 09:48:28 GMT'], 'Content-Type': ['application/x-amz-json-1.0']}, 'HttpHeaders': {'connection': 'keep-alive', 'Content-Length': '156', 'Content-Type': 'application/x-amz-json-1.0', 'Date': 'Wed, 19 Jun 2024 09:48:28 GMT', 'x-amzn-RequestId': 'db610605-fa66-4754-bd68-4658e824537a'}, 'HttpStatusCode': 200}, 'SdkResponseMetadata': {'RequestId': 'db610605-fa66-4754-bd68-4658e824537a'}, 'StartDate': 1718790508360, 'input': {'ExecutionArn': 'arn:aws:states:us-west-2:266726630905:execution:MyStateMachine-onquymonq:14a944c1-84ef-44e5-8d3b-e1b6c42740d1', 'Input': '{\"S3BucketName\":\"scripts-logger-266726630905-us-west-2\",\"Query\":{\"ScriptName\":\"scripts/rpr_NodeDetails.sql\",\"OutputLocation\":\"result/node_details.json\",\"ErrorLocation\":\"error/\",\"TimeThreshold\":\"60\",\"Status\":\"INITIAL\"},\"AWS_STEP_FUNCTIONS_STARTED_BY_EXECUTION_ID\":\"arn:aws:states:us-west-2:266726630905:execution:MyStateMachine-ljg0xx184:617d10c1-34ab-478b-b5f0-b072e17e7f61\",\"Workflow\":{\"NodeDetails\":{\"ScriptName\":\"scripts/rpr_NodeDetails.sql\",\"OutputLocation\":\"result/node_details.json\",\"TimeThreshold\":\"60\",\"Status\":\"INITIAL\"},\"QueueHealth\":{\"ScriptName\":\"scripts/rpr_QueueHealth.sql\",\"OutputLocation\":\"result/queue_health.json\",\"TimeThreshold\":\"60\",\"Status\":\"INITIAL\"},\"AlterTableRecommendation\":{\"ScriptName\":\"scripts/rpr_AlterTableRecommendation.sql\",\"OutputLocation\":\"result/alter_table_recommendation.json\",\"TimeThreshold\":\"60\",\"Status\":\"INITIAL\"},\"SpectrumPerformance\":{\"ScriptName\":\"scripts/rpr_SpectrumPerformance.sql\",\"OutputLocation\":\"result/spectrum_performance.json\",\"TimeThreshold\":\"60\",\"Status\":\"INITIAL\"},\"ATOWorkerActions\":{\"ScriptName\":\"rpr_ATOWorkerActions.sql\",\"OutputLocation\":\"result/ato_worker_actions.json\",\"TimeThreshold\":\"60\",\"Status\":\"INITIAL\"},\"ConcurrencyScalingUsage\":{\"ScriptName\":\"rpr_ConcurrencyScalingUsage.sql\",\"OutputLocation\":\"result/concurrency_scaling_usage.json\",\"TimeThreshold\":\"60\",\"Status\":\"INITIAL\"},\"CopyPerformance\":{\"ScriptName\":\"rpr_CopyPerformance.sql\",\"OutputLocation\":\"result/copy_performance.json\",\"TimeThreshold\":\"60\",\"Status\":\"INITIAL\"},\"DataShareConsumerUsage\":{\"ScriptName\":\"rpr_DataShareConsumerUsage.sql\",\"OutputLocation\":\"result/data_share_consumer_usage.json\",\"TimeThreshold\":\"60\",\"Status\":\"INITIAL\"},\"DataShareProducerObject\":{\"ScriptName\":\"rpr_DataShareProducerObject.sql\",\"OutputLocation\":\"result/data_share_producer_object.json\",\"TimeThreshold\":\"60\",\"Status\":\"INITIAL\"},\"MaterializedView\":{\"ScriptName\":\"rpr_MaterializedView.sql\",\"OutputLocation\":\"result/materialized_view.json\",\"TimeThreshold\":\"60\",\"Status\":\"INITIAL\"},\"TableAlerts\":{\"ScriptName\":\"rpr_TableAlerts.sql\",\"OutputLocation\":\"result/table_alerts.json\",\"TimeThreshold\":\"60\",\"Status\":\"INITIAL\"},\"TableInfo\":{\"ScriptName\":\"rpr_TableInfo.sql\",\"OutputLocation\":\"result/table_info.json\",\"TimeThreshold\":\"60\",\"Status\":\"INITIAL\"},\"Top50QueriesByDiskSpill\":{\"ScriptName\":\"rpr_Top50QueriesByDiskSpill.sql\",\"OutputLocation\":\"result/top_50_queries_by_disk_spill.json\",\"TimeThreshold\":\"60\",\"Status\":\"INITIAL\"},\"Top50QueriesByRunTime\":{\"ScriptName\":\"rpr_Top50QueriesByRunTime.sql\",\"OutputLocation\":\"result/top_50_queries_by_run_time.json\",\"TimeThreshold\":\"60\",\"Status\":\"INITIAL\"},\"UsagePattern\":{\"ScriptName\":\"rpr_UsagePattern.sql\",\"OutputLocation\":\"result/usage_pattern.json\",\"TimeThreshold\":\"60\",\"Status\":\"INITIAL\"},\"WaitTimeAndCount\":{\"ScriptName\":\"rpr_WaitTimeAndCount.sql\",\"OutputLocation\":\"result/wait_time_and_count.json\",\"TimeThreshold\":\"60\",\"Status\":\"INITIAL\"},\"WLMandCommit\":{\"ScriptName\":\"rpr_WLMandCommit.sql\",\"OutputLocation\":\"result/wlm_and_commit.json\",\"TimeThreshold\":\"60\",\"Status\":\"INITIAL\"},\"WLMConfig\":{\"ScriptName\":\"rpr_WLMConfig.sql\",\"OutputLocation\":\"result/wlm_config.json\",\"TimeThreshold\":\"60\",\"Status\":\"INITIAL\"},\"WorkloadEvaluation\":{\"ScriptName\":\"rpr_WorkloadEvaluation.sql\",\"OutputLocation\":\"result/workload_evaluation.json\",\"TimeThreshold\":\"60\",\"Status\":\"INITIAL\"}}}', 'InputDetails': {'Included': True}, 'Name': '14a944c1-84ef-44e5-8d3b-e1b6c42740d1', 'Output': '{\"ETag\":\"\\\\\"215f85bbf05618bb89cc8087af5b59e4\\\\\"\",\"ServerSideEncryption\":\"AES256\"}', 'OutputDetails': {'Included': True}, 'RedriveCount': 0, 'RedriveStatus': 'NOT_REDRIVABLE', 'RedriveStatusReason': 'Execution is SUCCEEDED and cannot be redriven', 'StartDate': '2024-06-19T09:48:28.360Z', 'StateMachineArn': 'arn:aws:states:us-west-2:266726630905:stateMachine:MyStateMachine-onquymonq', 'Status': 'SUCCEEDED', 'StopDate': '2024-06-19T09:48:50.463Z'}}\n"
   ]
  },
  {
   "cell_type": "code",
   "execution_count": 54,
   "metadata": {},
   "outputs": [],
   "source": [
    "import json\n",
    "state = json.loads(event.get(\"input\").get(\"Input\"))\n",
    "bucket = state.get(\"S3BucketName\")\n",
    "query = state.get(\"Query\")\n",
    "workflow = state.get(\"Workflow\")\n",
    "script = query.get(\"Script\")\n",
    "status = event.get(\"input\").get(\"Status\")\n"
   ]
  },
  {
   "cell_type": "code",
   "execution_count": null,
   "metadata": {},
   "outputs": [],
   "source": []
  },
  {
   "cell_type": "code",
   "execution_count": 56,
   "metadata": {},
   "outputs": [
    {
     "data": {
      "text/plain": [
       "{'ScriptName': 'scripts/rpr_NodeDetails.sql',\n",
       " 'OutputLocation': 'result/node_details.json',\n",
       " 'ErrorLocation': 'error/',\n",
       " 'TimeThreshold': '60',\n",
       " 'Status': 'INITIAL'}"
      ]
     },
     "execution_count": 56,
     "metadata": {},
     "output_type": "execute_result"
    }
   ],
   "source": [
    "import json\n",
    "next = 0\n",
    "for step in workflow:\n",
    "    if next == 1:\n",
    "        next_query = workflow[script]\n",
    "        break\n",
    "    if step == script:\n",
    "        workflow[step][\"Status\"] = status\n",
    "        next = 1\n",
    "\n",
    "        return { \n",
    "            'statusCode': 200,\n",
    "            'body': {\n",
    "                \"QueryList\": workflow,\n",
    "                \"Query\": next_query,\n",
    "                \"S3BucketName\": bucket\n",
    "            },\n",
    "            'continue': 'true'\n",
    "        }"
   ]
  },
  {
   "cell_type": "code",
   "execution_count": 19,
   "metadata": {},
   "outputs": [
    {
     "name": "stdout",
     "output_type": "stream",
     "text": [
      "{'S3BucketName': 'scripts-logger-266726630905-us-west-2', 'Query': {'ScriptName': 'scripts/rpr_NodeDetails.sql', 'OutputLocation': 'result/node_details.json', 'ErrorLocation': 'error/', 'TimeThreshold': '60', 'Status': 'INITIAL'}, 'AWS_STEP_FUNCTIONS_STARTED_BY_EXECUTION_ID': 'arn:aws:states:us-west-2:266726630905:execution:MyStateMachine-ljg0xx184:617d10c1-34ab-478b-b5f0-b072e17e7f61', 'Workflow': {'NodeDetails': {'ScriptName': 'scripts/rpr_NodeDetails.sql', 'OutputLocation': 'result/node_details.json', 'TimeThreshold': '60', 'Status': 'INITIAL'}, 'QueueHealth': {'ScriptName': 'scripts/rpr_QueueHealth.sql', 'OutputLocation': 'result/queue_health.json', 'TimeThreshold': '60', 'Status': 'INITIAL'}, 'AlterTableRecommendation': {'ScriptName': 'scripts/rpr_AlterTableRecommendation.sql', 'OutputLocation': 'result/alter_table_recommendation.json', 'TimeThreshold': '60', 'Status': 'INITIAL'}, 'SpectrumPerformance': {'ScriptName': 'scripts/rpr_SpectrumPerformance.sql', 'OutputLocation': 'result/spectrum_performance.json', 'TimeThreshold': '60', 'Status': 'INITIAL'}, 'ATOWorkerActions': {'ScriptName': 'rpr_ATOWorkerActions.sql', 'OutputLocation': 'result/ato_worker_actions.json', 'TimeThreshold': '60', 'Status': 'INITIAL'}, 'ConcurrencyScalingUsage': {'ScriptName': 'rpr_ConcurrencyScalingUsage.sql', 'OutputLocation': 'result/concurrency_scaling_usage.json', 'TimeThreshold': '60', 'Status': 'INITIAL'}, 'CopyPerformance': {'ScriptName': 'rpr_CopyPerformance.sql', 'OutputLocation': 'result/copy_performance.json', 'TimeThreshold': '60', 'Status': 'INITIAL'}, 'DataShareConsumerUsage': {'ScriptName': 'rpr_DataShareConsumerUsage.sql', 'OutputLocation': 'result/data_share_consumer_usage.json', 'TimeThreshold': '60', 'Status': 'INITIAL'}, 'DataShareProducerObject': {'ScriptName': 'rpr_DataShareProducerObject.sql', 'OutputLocation': 'result/data_share_producer_object.json', 'TimeThreshold': '60', 'Status': 'INITIAL'}, 'MaterializedView': {'ScriptName': 'rpr_MaterializedView.sql', 'OutputLocation': 'result/materialized_view.json', 'TimeThreshold': '60', 'Status': 'INITIAL'}, 'TableAlerts': {'ScriptName': 'rpr_TableAlerts.sql', 'OutputLocation': 'result/table_alerts.json', 'TimeThreshold': '60', 'Status': 'INITIAL'}, 'TableInfo': {'ScriptName': 'rpr_TableInfo.sql', 'OutputLocation': 'result/table_info.json', 'TimeThreshold': '60', 'Status': 'INITIAL'}, 'Top50QueriesByDiskSpill': {'ScriptName': 'rpr_Top50QueriesByDiskSpill.sql', 'OutputLocation': 'result/top_50_queries_by_disk_spill.json', 'TimeThreshold': '60', 'Status': 'INITIAL'}, 'Top50QueriesByRunTime': {'ScriptName': 'rpr_Top50QueriesByRunTime.sql', 'OutputLocation': 'result/top_50_queries_by_run_time.json', 'TimeThreshold': '60', 'Status': 'INITIAL'}, 'UsagePattern': {'ScriptName': 'rpr_UsagePattern.sql', 'OutputLocation': 'result/usage_pattern.json', 'TimeThreshold': '60', 'Status': 'INITIAL'}, 'WaitTimeAndCount': {'ScriptName': 'rpr_WaitTimeAndCount.sql', 'OutputLocation': 'result/wait_time_and_count.json', 'TimeThreshold': '60', 'Status': 'INITIAL'}, 'WLMandCommit': {'ScriptName': 'rpr_WLMandCommit.sql', 'OutputLocation': 'result/wlm_and_commit.json', 'TimeThreshold': '60', 'Status': 'INITIAL'}, 'WLMConfig': {'ScriptName': 'rpr_WLMConfig.sql', 'OutputLocation': 'result/wlm_config.json', 'TimeThreshold': '60', 'Status': 'INITIAL'}, 'WorkloadEvaluation': {'ScriptName': 'rpr_WorkloadEvaluation.sql', 'OutputLocation': 'result/workload_evaluation.json', 'TimeThreshold': '60', 'Status': 'INITIAL'}}}\n",
      "<class 'dict'>\n",
      "scripts-logger-266726630905-us-west-2\n",
      "{'ScriptName': 'scripts/rpr_NodeDetails.sql', 'OutputLocation': 'result/node_details.json', 'ErrorLocation': 'error/', 'TimeThreshold': '60', 'Status': 'INITIAL'}\n",
      "{'NodeDetails': {'ScriptName': 'scripts/rpr_NodeDetails.sql', 'OutputLocation': 'result/node_details.json', 'TimeThreshold': '60', 'Status': 'INITIAL'}, 'QueueHealth': {'ScriptName': 'scripts/rpr_QueueHealth.sql', 'OutputLocation': 'result/queue_health.json', 'TimeThreshold': '60', 'Status': 'INITIAL'}, 'AlterTableRecommendation': {'ScriptName': 'scripts/rpr_AlterTableRecommendation.sql', 'OutputLocation': 'result/alter_table_recommendation.json', 'TimeThreshold': '60', 'Status': 'INITIAL'}, 'SpectrumPerformance': {'ScriptName': 'scripts/rpr_SpectrumPerformance.sql', 'OutputLocation': 'result/spectrum_performance.json', 'TimeThreshold': '60', 'Status': 'INITIAL'}, 'ATOWorkerActions': {'ScriptName': 'rpr_ATOWorkerActions.sql', 'OutputLocation': 'result/ato_worker_actions.json', 'TimeThreshold': '60', 'Status': 'INITIAL'}, 'ConcurrencyScalingUsage': {'ScriptName': 'rpr_ConcurrencyScalingUsage.sql', 'OutputLocation': 'result/concurrency_scaling_usage.json', 'TimeThreshold': '60', 'Status': 'INITIAL'}, 'CopyPerformance': {'ScriptName': 'rpr_CopyPerformance.sql', 'OutputLocation': 'result/copy_performance.json', 'TimeThreshold': '60', 'Status': 'INITIAL'}, 'DataShareConsumerUsage': {'ScriptName': 'rpr_DataShareConsumerUsage.sql', 'OutputLocation': 'result/data_share_consumer_usage.json', 'TimeThreshold': '60', 'Status': 'INITIAL'}, 'DataShareProducerObject': {'ScriptName': 'rpr_DataShareProducerObject.sql', 'OutputLocation': 'result/data_share_producer_object.json', 'TimeThreshold': '60', 'Status': 'INITIAL'}, 'MaterializedView': {'ScriptName': 'rpr_MaterializedView.sql', 'OutputLocation': 'result/materialized_view.json', 'TimeThreshold': '60', 'Status': 'INITIAL'}, 'TableAlerts': {'ScriptName': 'rpr_TableAlerts.sql', 'OutputLocation': 'result/table_alerts.json', 'TimeThreshold': '60', 'Status': 'INITIAL'}, 'TableInfo': {'ScriptName': 'rpr_TableInfo.sql', 'OutputLocation': 'result/table_info.json', 'TimeThreshold': '60', 'Status': 'INITIAL'}, 'Top50QueriesByDiskSpill': {'ScriptName': 'rpr_Top50QueriesByDiskSpill.sql', 'OutputLocation': 'result/top_50_queries_by_disk_spill.json', 'TimeThreshold': '60', 'Status': 'INITIAL'}, 'Top50QueriesByRunTime': {'ScriptName': 'rpr_Top50QueriesByRunTime.sql', 'OutputLocation': 'result/top_50_queries_by_run_time.json', 'TimeThreshold': '60', 'Status': 'INITIAL'}, 'UsagePattern': {'ScriptName': 'rpr_UsagePattern.sql', 'OutputLocation': 'result/usage_pattern.json', 'TimeThreshold': '60', 'Status': 'INITIAL'}, 'WaitTimeAndCount': {'ScriptName': 'rpr_WaitTimeAndCount.sql', 'OutputLocation': 'result/wait_time_and_count.json', 'TimeThreshold': '60', 'Status': 'INITIAL'}, 'WLMandCommit': {'ScriptName': 'rpr_WLMandCommit.sql', 'OutputLocation': 'result/wlm_and_commit.json', 'TimeThreshold': '60', 'Status': 'INITIAL'}, 'WLMConfig': {'ScriptName': 'rpr_WLMConfig.sql', 'OutputLocation': 'result/wlm_config.json', 'TimeThreshold': '60', 'Status': 'INITIAL'}, 'WorkloadEvaluation': {'ScriptName': 'rpr_WorkloadEvaluation.sql', 'OutputLocation': 'result/workload_evaluation.json', 'TimeThreshold': '60', 'Status': 'INITIAL'}}\n"
     ]
    }
   ],
   "source": [
    "print(state)\n",
    "print(type(state ))\n",
    "print(bucket)\n",
    "print(query)\n",
    "print(workflow)"
   ]
  },
  {
   "cell_type": "code",
   "execution_count": 30,
   "metadata": {},
   "outputs": [],
   "source": [
    "script = \"NodeDetails\"\n",
    "next = 0\n",
    "for script in workflow:\n",
    "    if next == 1:\n",
    "        next_query = workflow[script]\n",
    "        break\n",
    "    if script == query.get(\"Script\"):\n",
    "        workflow[script][\"Status\"] = status\n",
    "        next = 1\n",
    "\n",
    "\n",
    "\n"
   ]
  },
  {
   "cell_type": "code",
   "execution_count": 31,
   "metadata": {},
   "outputs": [
    {
     "data": {
      "text/plain": [
       "{'NodeDetails': {'ScriptName': 'scripts/rpr_NodeDetails.sql',\n",
       "  'OutputLocation': 'result/node_details.json',\n",
       "  'TimeThreshold': '60',\n",
       "  'Status': 'SUCCEDDED'},\n",
       " 'QueueHealth': {'ScriptName': 'scripts/rpr_QueueHealth.sql',\n",
       "  'OutputLocation': 'result/queue_health.json',\n",
       "  'TimeThreshold': '60',\n",
       "  'Status': 'INITIAL'},\n",
       " 'AlterTableRecommendation': {'ScriptName': 'scripts/rpr_AlterTableRecommendation.sql',\n",
       "  'OutputLocation': 'result/alter_table_recommendation.json',\n",
       "  'TimeThreshold': '60',\n",
       "  'Status': 'INITIAL'},\n",
       " 'SpectrumPerformance': {'ScriptName': 'scripts/rpr_SpectrumPerformance.sql',\n",
       "  'OutputLocation': 'result/spectrum_performance.json',\n",
       "  'TimeThreshold': '60',\n",
       "  'Status': 'INITIAL'},\n",
       " 'ATOWorkerActions': {'ScriptName': 'rpr_ATOWorkerActions.sql',\n",
       "  'OutputLocation': 'result/ato_worker_actions.json',\n",
       "  'TimeThreshold': '60',\n",
       "  'Status': 'INITIAL'},\n",
       " 'ConcurrencyScalingUsage': {'ScriptName': 'rpr_ConcurrencyScalingUsage.sql',\n",
       "  'OutputLocation': 'result/concurrency_scaling_usage.json',\n",
       "  'TimeThreshold': '60',\n",
       "  'Status': 'INITIAL'},\n",
       " 'CopyPerformance': {'ScriptName': 'rpr_CopyPerformance.sql',\n",
       "  'OutputLocation': 'result/copy_performance.json',\n",
       "  'TimeThreshold': '60',\n",
       "  'Status': 'INITIAL'},\n",
       " 'DataShareConsumerUsage': {'ScriptName': 'rpr_DataShareConsumerUsage.sql',\n",
       "  'OutputLocation': 'result/data_share_consumer_usage.json',\n",
       "  'TimeThreshold': '60',\n",
       "  'Status': 'INITIAL'},\n",
       " 'DataShareProducerObject': {'ScriptName': 'rpr_DataShareProducerObject.sql',\n",
       "  'OutputLocation': 'result/data_share_producer_object.json',\n",
       "  'TimeThreshold': '60',\n",
       "  'Status': 'INITIAL'},\n",
       " 'MaterializedView': {'ScriptName': 'rpr_MaterializedView.sql',\n",
       "  'OutputLocation': 'result/materialized_view.json',\n",
       "  'TimeThreshold': '60',\n",
       "  'Status': 'INITIAL'},\n",
       " 'TableAlerts': {'ScriptName': 'rpr_TableAlerts.sql',\n",
       "  'OutputLocation': 'result/table_alerts.json',\n",
       "  'TimeThreshold': '60',\n",
       "  'Status': 'INITIAL'},\n",
       " 'TableInfo': {'ScriptName': 'rpr_TableInfo.sql',\n",
       "  'OutputLocation': 'result/table_info.json',\n",
       "  'TimeThreshold': '60',\n",
       "  'Status': 'INITIAL'},\n",
       " 'Top50QueriesByDiskSpill': {'ScriptName': 'rpr_Top50QueriesByDiskSpill.sql',\n",
       "  'OutputLocation': 'result/top_50_queries_by_disk_spill.json',\n",
       "  'TimeThreshold': '60',\n",
       "  'Status': 'INITIAL'},\n",
       " 'Top50QueriesByRunTime': {'ScriptName': 'rpr_Top50QueriesByRunTime.sql',\n",
       "  'OutputLocation': 'result/top_50_queries_by_run_time.json',\n",
       "  'TimeThreshold': '60',\n",
       "  'Status': 'INITIAL'},\n",
       " 'UsagePattern': {'ScriptName': 'rpr_UsagePattern.sql',\n",
       "  'OutputLocation': 'result/usage_pattern.json',\n",
       "  'TimeThreshold': '60',\n",
       "  'Status': 'INITIAL'},\n",
       " 'WaitTimeAndCount': {'ScriptName': 'rpr_WaitTimeAndCount.sql',\n",
       "  'OutputLocation': 'result/wait_time_and_count.json',\n",
       "  'TimeThreshold': '60',\n",
       "  'Status': 'INITIAL'},\n",
       " 'WLMandCommit': {'ScriptName': 'rpr_WLMandCommit.sql',\n",
       "  'OutputLocation': 'result/wlm_and_commit.json',\n",
       "  'TimeThreshold': '60',\n",
       "  'Status': 'INITIAL'},\n",
       " 'WLMConfig': {'ScriptName': 'rpr_WLMConfig.sql',\n",
       "  'OutputLocation': 'result/wlm_config.json',\n",
       "  'TimeThreshold': '60',\n",
       "  'Status': 'INITIAL'},\n",
       " 'WorkloadEvaluation': {'ScriptName': 'rpr_WorkloadEvaluation.sql',\n",
       "  'OutputLocation': 'result/workload_evaluation.json',\n",
       "  'TimeThreshold': '60',\n",
       "  'Status': 'INITIAL'}}"
      ]
     },
     "execution_count": 31,
     "metadata": {},
     "output_type": "execute_result"
    }
   ],
   "source": [
    "workflow"
   ]
  },
  {
   "cell_type": "code",
   "execution_count": 57,
   "metadata": {},
   "outputs": [
    {
     "name": "stdout",
     "output_type": "stream",
     "text": [
      "{'NodeDetails': {'ScriptName': 'scripts/rpr_NodeDetails.sql', 'OutputLocation': 'result/node_details.json', 'TimeThreshold': '60', 'Status': 'INITIAL', 'Script': 'NodeDetails'}, 'QueueHealth': {'ScriptName': 'scripts/rpr_QueueHealth.sql', 'OutputLocation': 'result/queue_health.json', 'TimeThreshold': '60', 'Status': 'INITIAL', 'Script': 'QueueHealth'}, 'AlterTableRecommendation': {'ScriptName': 'scripts/rpr_AlterTableRecommendation.sql', 'OutputLocation': 'result/alter_table_recommendation.json', 'TimeThreshold': '60', 'Status': 'INITIAL', 'Script': 'AlterTableRecommendation'}, 'SpectrumPerformance': {'ScriptName': 'scripts/rpr_SpectrumPerformance.sql', 'OutputLocation': 'result/spectrum_performance.json', 'TimeThreshold': '60', 'Status': 'INITIAL', 'Script': 'SpectrumPerformance'}, 'ATOWorkerActions': {'ScriptName': 'rpr_ATOWorkerActions.sql', 'OutputLocation': 'result/ato_worker_actions.json', 'TimeThreshold': '60', 'Status': 'INITIAL', 'Script': 'ATOWorkerActions'}, 'ConcurrencyScalingUsage': {'ScriptName': 'rpr_ConcurrencyScalingUsage.sql', 'OutputLocation': 'result/concurrency_scaling_usage.json', 'TimeThreshold': '60', 'Status': 'INITIAL', 'Script': 'ConcurrencyScalingUsage'}, 'CopyPerformance': {'ScriptName': 'rpr_CopyPerformance.sql', 'OutputLocation': 'result/copy_performance.json', 'TimeThreshold': '60', 'Status': 'INITIAL', 'Script': 'CopyPerformance'}, 'DataShareConsumerUsage': {'ScriptName': 'rpr_DataShareConsumerUsage.sql', 'OutputLocation': 'result/data_share_consumer_usage.json', 'TimeThreshold': '60', 'Status': 'INITIAL', 'Script': 'DataShareConsumerUsage'}, 'DataShareProducerObject': {'ScriptName': 'rpr_DataShareProducerObject.sql', 'OutputLocation': 'result/data_share_producer_object.json', 'TimeThreshold': '60', 'Status': 'INITIAL', 'Script': 'DataShareProducerObject'}, 'MaterializedView': {'ScriptName': 'rpr_MaterializedView.sql', 'OutputLocation': 'result/materialized_view.json', 'TimeThreshold': '60', 'Status': 'INITIAL', 'Script': 'MaterializedView'}, 'TableAlerts': {'ScriptName': 'rpr_TableAlerts.sql', 'OutputLocation': 'result/table_alerts.json', 'TimeThreshold': '60', 'Status': 'INITIAL', 'Script': 'TableAlerts'}, 'TableInfo': {'ScriptName': 'rpr_TableInfo.sql', 'OutputLocation': 'result/table_info.json', 'TimeThreshold': '60', 'Status': 'INITIAL', 'Script': 'TableInfo'}, 'Top50QueriesByDiskSpill': {'ScriptName': 'rpr_Top50QueriesByDiskSpill.sql', 'OutputLocation': 'result/top_50_queries_by_disk_spill.json', 'TimeThreshold': '60', 'Status': 'INITIAL', 'Script': 'Top50QueriesByDiskSpill'}, 'Top50QueriesByRunTime': {'ScriptName': 'rpr_Top50QueriesByRunTime.sql', 'OutputLocation': 'result/top_50_queries_by_run_time.json', 'TimeThreshold': '60', 'Status': 'INITIAL', 'Script': 'Top50QueriesByRunTime'}, 'UsagePattern': {'ScriptName': 'rpr_UsagePattern.sql', 'OutputLocation': 'result/usage_pattern.json', 'TimeThreshold': '60', 'Status': 'INITIAL', 'Script': 'UsagePattern'}, 'WaitTimeAndCount': {'ScriptName': 'rpr_WaitTimeAndCount.sql', 'OutputLocation': 'result/wait_time_and_count.json', 'TimeThreshold': '60', 'Status': 'INITIAL', 'Script': 'WaitTimeAndCount'}, 'WLMandCommit': {'ScriptName': 'rpr_WLMandCommit.sql', 'OutputLocation': 'result/wlm_and_commit.json', 'TimeThreshold': '60', 'Status': 'INITIAL', 'Script': 'WLMandCommit'}, 'WLMConfig': {'ScriptName': 'rpr_WLMConfig.sql', 'OutputLocation': 'result/wlm_config.json', 'TimeThreshold': '60', 'Status': 'INITIAL', 'Script': 'WLMConfig'}, 'WorkloadEvaluation': {'ScriptName': 'rpr_WorkloadEvaluation.sql', 'OutputLocation': 'result/workload_evaluation.json', 'TimeThreshold': '60', 'Status': 'INITIAL', 'Script': 'WorkloadEvaluation'}}\n"
     ]
    }
   ],
   "source": [
    "for step in workflow:\n",
    "    workflow[step][\"Script\"] = step\n",
    "\n",
    "print(workflow)"
   ]
  },
  {
   "cell_type": "code",
   "execution_count": 58,
   "metadata": {},
   "outputs": [
    {
     "data": {
      "text/plain": [
       "{'NodeDetails': {'ScriptName': 'scripts/rpr_NodeDetails.sql',\n",
       "  'OutputLocation': 'result/node_details.json',\n",
       "  'TimeThreshold': '60',\n",
       "  'Status': 'INITIAL',\n",
       "  'Script': 'NodeDetails'},\n",
       " 'QueueHealth': {'ScriptName': 'scripts/rpr_QueueHealth.sql',\n",
       "  'OutputLocation': 'result/queue_health.json',\n",
       "  'TimeThreshold': '60',\n",
       "  'Status': 'INITIAL',\n",
       "  'Script': 'QueueHealth'},\n",
       " 'AlterTableRecommendation': {'ScriptName': 'scripts/rpr_AlterTableRecommendation.sql',\n",
       "  'OutputLocation': 'result/alter_table_recommendation.json',\n",
       "  'TimeThreshold': '60',\n",
       "  'Status': 'INITIAL',\n",
       "  'Script': 'AlterTableRecommendation'},\n",
       " 'SpectrumPerformance': {'ScriptName': 'scripts/rpr_SpectrumPerformance.sql',\n",
       "  'OutputLocation': 'result/spectrum_performance.json',\n",
       "  'TimeThreshold': '60',\n",
       "  'Status': 'INITIAL',\n",
       "  'Script': 'SpectrumPerformance'},\n",
       " 'ATOWorkerActions': {'ScriptName': 'rpr_ATOWorkerActions.sql',\n",
       "  'OutputLocation': 'result/ato_worker_actions.json',\n",
       "  'TimeThreshold': '60',\n",
       "  'Status': 'INITIAL',\n",
       "  'Script': 'ATOWorkerActions'},\n",
       " 'ConcurrencyScalingUsage': {'ScriptName': 'rpr_ConcurrencyScalingUsage.sql',\n",
       "  'OutputLocation': 'result/concurrency_scaling_usage.json',\n",
       "  'TimeThreshold': '60',\n",
       "  'Status': 'INITIAL',\n",
       "  'Script': 'ConcurrencyScalingUsage'},\n",
       " 'CopyPerformance': {'ScriptName': 'rpr_CopyPerformance.sql',\n",
       "  'OutputLocation': 'result/copy_performance.json',\n",
       "  'TimeThreshold': '60',\n",
       "  'Status': 'INITIAL',\n",
       "  'Script': 'CopyPerformance'},\n",
       " 'DataShareConsumerUsage': {'ScriptName': 'rpr_DataShareConsumerUsage.sql',\n",
       "  'OutputLocation': 'result/data_share_consumer_usage.json',\n",
       "  'TimeThreshold': '60',\n",
       "  'Status': 'INITIAL',\n",
       "  'Script': 'DataShareConsumerUsage'},\n",
       " 'DataShareProducerObject': {'ScriptName': 'rpr_DataShareProducerObject.sql',\n",
       "  'OutputLocation': 'result/data_share_producer_object.json',\n",
       "  'TimeThreshold': '60',\n",
       "  'Status': 'INITIAL',\n",
       "  'Script': 'DataShareProducerObject'},\n",
       " 'MaterializedView': {'ScriptName': 'rpr_MaterializedView.sql',\n",
       "  'OutputLocation': 'result/materialized_view.json',\n",
       "  'TimeThreshold': '60',\n",
       "  'Status': 'INITIAL',\n",
       "  'Script': 'MaterializedView'},\n",
       " 'TableAlerts': {'ScriptName': 'rpr_TableAlerts.sql',\n",
       "  'OutputLocation': 'result/table_alerts.json',\n",
       "  'TimeThreshold': '60',\n",
       "  'Status': 'INITIAL',\n",
       "  'Script': 'TableAlerts'},\n",
       " 'TableInfo': {'ScriptName': 'rpr_TableInfo.sql',\n",
       "  'OutputLocation': 'result/table_info.json',\n",
       "  'TimeThreshold': '60',\n",
       "  'Status': 'INITIAL',\n",
       "  'Script': 'TableInfo'},\n",
       " 'Top50QueriesByDiskSpill': {'ScriptName': 'rpr_Top50QueriesByDiskSpill.sql',\n",
       "  'OutputLocation': 'result/top_50_queries_by_disk_spill.json',\n",
       "  'TimeThreshold': '60',\n",
       "  'Status': 'INITIAL',\n",
       "  'Script': 'Top50QueriesByDiskSpill'},\n",
       " 'Top50QueriesByRunTime': {'ScriptName': 'rpr_Top50QueriesByRunTime.sql',\n",
       "  'OutputLocation': 'result/top_50_queries_by_run_time.json',\n",
       "  'TimeThreshold': '60',\n",
       "  'Status': 'INITIAL',\n",
       "  'Script': 'Top50QueriesByRunTime'},\n",
       " 'UsagePattern': {'ScriptName': 'rpr_UsagePattern.sql',\n",
       "  'OutputLocation': 'result/usage_pattern.json',\n",
       "  'TimeThreshold': '60',\n",
       "  'Status': 'INITIAL',\n",
       "  'Script': 'UsagePattern'},\n",
       " 'WaitTimeAndCount': {'ScriptName': 'rpr_WaitTimeAndCount.sql',\n",
       "  'OutputLocation': 'result/wait_time_and_count.json',\n",
       "  'TimeThreshold': '60',\n",
       "  'Status': 'INITIAL',\n",
       "  'Script': 'WaitTimeAndCount'},\n",
       " 'WLMandCommit': {'ScriptName': 'rpr_WLMandCommit.sql',\n",
       "  'OutputLocation': 'result/wlm_and_commit.json',\n",
       "  'TimeThreshold': '60',\n",
       "  'Status': 'INITIAL',\n",
       "  'Script': 'WLMandCommit'},\n",
       " 'WLMConfig': {'ScriptName': 'rpr_WLMConfig.sql',\n",
       "  'OutputLocation': 'result/wlm_config.json',\n",
       "  'TimeThreshold': '60',\n",
       "  'Status': 'INITIAL',\n",
       "  'Script': 'WLMConfig'},\n",
       " 'WorkloadEvaluation': {'ScriptName': 'rpr_WorkloadEvaluation.sql',\n",
       "  'OutputLocation': 'result/workload_evaluation.json',\n",
       "  'TimeThreshold': '60',\n",
       "  'Status': 'INITIAL',\n",
       "  'Script': 'WorkloadEvaluation'}}"
      ]
     },
     "execution_count": 58,
     "metadata": {},
     "output_type": "execute_result"
    }
   ],
   "source": [
    "workflow"
   ]
  },
  {
   "cell_type": "code",
   "execution_count": null,
   "metadata": {},
   "outputs": [],
   "source": [
    "def create_csv(json_result):\n"
   ]
  },
  {
   "cell_type": "code",
   "execution_count": null,
   "metadata": {},
   "outputs": [
    {
     "name": "stdout",
     "output_type": "stream",
     "text": [
      "{'S3BucketName': 'scripts-logger-266726630905-us-west-2', 'Query': {'ScriptName': 'scripts/rpr_NodeDetails.sql', 'OutputLocation': 'result/node_details.json', 'ErrorLocation': 'error/', 'TimeThreshold': '60', 'Status': 'INITIAL'}, 'AWS_STEP_FUNCTIONS_STARTED_BY_EXECUTION_ID': 'arn:aws:states:us-west-2:266726630905:execution:MyStateMachine-ljg0xx184:617d10c1-34ab-478b-b5f0-b072e17e7f61', 'Workflow': {'NodeDetails': {'ScriptName': 'scripts/rpr_NodeDetails.sql', 'OutputLocation': 'result/node_details.json', 'TimeThreshold': '60', 'Status': 'INITIAL'}, 'QueueHealth': {'ScriptName': 'scripts/rpr_QueueHealth.sql', 'OutputLocation': 'result/queue_health.json', 'TimeThreshold': '60', 'Status': 'INITIAL'}, 'AlterTableRecommendation': {'ScriptName': 'scripts/rpr_AlterTableRecommendation.sql', 'OutputLocation': 'result/alter_table_recommendation.json', 'TimeThreshold': '60', 'Status': 'INITIAL'}, 'SpectrumPerformance': {'ScriptName': 'scripts/rpr_SpectrumPerformance.sql', 'OutputLocation': 'result/spectrum_performance.json', 'TimeThreshold': '60', 'Status': 'INITIAL'}, 'ATOWorkerActions': {'ScriptName': 'rpr_ATOWorkerActions.sql', 'OutputLocation': 'result/ato_worker_actions.json', 'TimeThreshold': '60', 'Status': 'INITIAL'}, 'ConcurrencyScalingUsage': {'ScriptName': 'rpr_ConcurrencyScalingUsage.sql', 'OutputLocation': 'result/concurrency_scaling_usage.json', 'TimeThreshold': '60', 'Status': 'INITIAL'}, 'CopyPerformance': {'ScriptName': 'rpr_CopyPerformance.sql', 'OutputLocation': 'result/copy_performance.json', 'TimeThreshold': '60', 'Status': 'INITIAL'}, 'DataShareConsumerUsage': {'ScriptName': 'rpr_DataShareConsumerUsage.sql', 'OutputLocation': 'result/data_share_consumer_usage.json', 'TimeThreshold': '60', 'Status': 'INITIAL'}, 'DataShareProducerObject': {'ScriptName': 'rpr_DataShareProducerObject.sql', 'OutputLocation': 'result/data_share_producer_object.json', 'TimeThreshold': '60', 'Status': 'INITIAL'}, 'MaterializedView': {'ScriptName': 'rpr_MaterializedView.sql', 'OutputLocation': 'result/materialized_view.json', 'TimeThreshold': '60', 'Status': 'INITIAL'}, 'TableAlerts': {'ScriptName': 'rpr_TableAlerts.sql', 'OutputLocation': 'result/table_alerts.json', 'TimeThreshold': '60', 'Status': 'INITIAL'}, 'TableInfo': {'ScriptName': 'rpr_TableInfo.sql', 'OutputLocation': 'result/table_info.json', 'TimeThreshold': '60', 'Status': 'INITIAL'}, 'Top50QueriesByDiskSpill': {'ScriptName': 'rpr_Top50QueriesByDiskSpill.sql', 'OutputLocation': 'result/top_50_queries_by_disk_spill.json', 'TimeThreshold': '60', 'Status': 'INITIAL'}, 'Top50QueriesByRunTime': {'ScriptName': 'rpr_Top50QueriesByRunTime.sql', 'OutputLocation': 'result/top_50_queries_by_run_time.json', 'TimeThreshold': '60', 'Status': 'INITIAL'}, 'UsagePattern': {'ScriptName': 'rpr_UsagePattern.sql', 'OutputLocation': 'result/usage_pattern.json', 'TimeThreshold': '60', 'Status': 'INITIAL'}, 'WaitTimeAndCount': {'ScriptName': 'rpr_WaitTimeAndCount.sql', 'OutputLocation': 'result/wait_time_and_count.json', 'TimeThreshold': '60', 'Status': 'INITIAL'}, 'WLMandCommit': {'ScriptName': 'rpr_WLMandCommit.sql', 'OutputLocation': 'result/wlm_and_commit.json', 'TimeThreshold': '60', 'Status': 'INITIAL'}, 'WLMConfig': {'ScriptName': 'rpr_WLMConfig.sql', 'OutputLocation': 'result/wlm_config.json', 'TimeThreshold': '60', 'Status': 'INITIAL'}, 'WorkloadEvaluation': {'ScriptName': 'rpr_WorkloadEvaluation.sql', 'OutputLocation': 'result/workload_evaluation.json', 'TimeThreshold': '60', 'Status': 'INITIAL'}}}\n",
      "<class 'dict'>\n",
      "scripts-logger-266726630905-us-west-2\n",
      "{'ScriptName': 'scripts/rpr_NodeDetails.sql', 'OutputLocation': 'result/node_details.json', 'ErrorLocation': 'error/', 'TimeThreshold': '60', 'Status': 'INITIAL'}\n",
      "{'NodeDetails': {'ScriptName': 'scripts/rpr_NodeDetails.sql', 'OutputLocation': 'result/node_details.json', 'TimeThreshold': '60', 'Status': 'INITIAL'}, 'QueueHealth': {'ScriptName': 'scripts/rpr_QueueHealth.sql', 'OutputLocation': 'result/queue_health.json', 'TimeThreshold': '60', 'Status': 'INITIAL'}, 'AlterTableRecommendation': {'ScriptName': 'scripts/rpr_AlterTableRecommendation.sql', 'OutputLocation': 'result/alter_table_recommendation.json', 'TimeThreshold': '60', 'Status': 'INITIAL'}, 'SpectrumPerformance': {'ScriptName': 'scripts/rpr_SpectrumPerformance.sql', 'OutputLocation': 'result/spectrum_performance.json', 'TimeThreshold': '60', 'Status': 'INITIAL'}, 'ATOWorkerActions': {'ScriptName': 'rpr_ATOWorkerActions.sql', 'OutputLocation': 'result/ato_worker_actions.json', 'TimeThreshold': '60', 'Status': 'INITIAL'}, 'ConcurrencyScalingUsage': {'ScriptName': 'rpr_ConcurrencyScalingUsage.sql', 'OutputLocation': 'result/concurrency_scaling_usage.json', 'TimeThreshold': '60', 'Status': 'INITIAL'}, 'CopyPerformance': {'ScriptName': 'rpr_CopyPerformance.sql', 'OutputLocation': 'result/copy_performance.json', 'TimeThreshold': '60', 'Status': 'INITIAL'}, 'DataShareConsumerUsage': {'ScriptName': 'rpr_DataShareConsumerUsage.sql', 'OutputLocation': 'result/data_share_consumer_usage.json', 'TimeThreshold': '60', 'Status': 'INITIAL'}, 'DataShareProducerObject': {'ScriptName': 'rpr_DataShareProducerObject.sql', 'OutputLocation': 'result/data_share_producer_object.json', 'TimeThreshold': '60', 'Status': 'INITIAL'}, 'MaterializedView': {'ScriptName': 'rpr_MaterializedView.sql', 'OutputLocation': 'result/materialized_view.json', 'TimeThreshold': '60', 'Status': 'INITIAL'}, 'TableAlerts': {'ScriptName': 'rpr_TableAlerts.sql', 'OutputLocation': 'result/table_alerts.json', 'TimeThreshold': '60', 'Status': 'INITIAL'}, 'TableInfo': {'ScriptName': 'rpr_TableInfo.sql', 'OutputLocation': 'result/table_info.json', 'TimeThreshold': '60', 'Status': 'INITIAL'}, 'Top50QueriesByDiskSpill': {'ScriptName': 'rpr_Top50QueriesByDiskSpill.sql', 'OutputLocation': 'result/top_50_queries_by_disk_spill.json', 'TimeThreshold': '60', 'Status': 'INITIAL'}, 'Top50QueriesByRunTime': {'ScriptName': 'rpr_Top50QueriesByRunTime.sql', 'OutputLocation': 'result/top_50_queries_by_run_time.json', 'TimeThreshold': '60', 'Status': 'INITIAL'}, 'UsagePattern': {'ScriptName': 'rpr_UsagePattern.sql', 'OutputLocation': 'result/usage_pattern.json', 'TimeThreshold': '60', 'Status': 'INITIAL'}, 'WaitTimeAndCount': {'ScriptName': 'rpr_WaitTimeAndCount.sql', 'OutputLocation': 'result/wait_time_and_count.json', 'TimeThreshold': '60', 'Status': 'INITIAL'}, 'WLMandCommit': {'ScriptName': 'rpr_WLMandCommit.sql', 'OutputLocation': 'result/wlm_and_commit.json', 'TimeThreshold': '60', 'Status': 'INITIAL'}, 'WLMConfig': {'ScriptName': 'rpr_WLMConfig.sql', 'OutputLocation': 'result/wlm_config.json', 'TimeThreshold': '60', 'Status': 'INITIAL'}, 'WorkloadEvaluation': {'ScriptName': 'rpr_WorkloadEvaluation.sql', 'OutputLocation': 'result/workload_evaluation.json', 'TimeThreshold': '60', 'Status': 'INITIAL'}}\n"
     ]
    }
   ],
   "source": [
    "print(state)\n",
    "print(type(state ))\n",
    "print(bucket)\n",
    "print(query)\n",
    "print(workflow)"
   ]
  },
  {
   "cell_type": "code",
   "execution_count": null,
   "metadata": {},
   "outputs": [
    {
     "name": "stdout",
     "output_type": "stream",
     "text": [
      "{'S3BucketName': 'scripts-logger-266726630905-us-west-2', 'Query': {'ScriptName': 'scripts/rpr_NodeDetails.sql', 'OutputLocation': 'result/node_details.json', 'ErrorLocation': 'error/', 'TimeThreshold': '60', 'Status': 'INITIAL'}, 'AWS_STEP_FUNCTIONS_STARTED_BY_EXECUTION_ID': 'arn:aws:states:us-west-2:266726630905:execution:MyStateMachine-ljg0xx184:617d10c1-34ab-478b-b5f0-b072e17e7f61', 'Workflow': {'NodeDetails': {'ScriptName': 'scripts/rpr_NodeDetails.sql', 'OutputLocation': 'result/node_details.json', 'TimeThreshold': '60', 'Status': 'INITIAL'}, 'QueueHealth': {'ScriptName': 'scripts/rpr_QueueHealth.sql', 'OutputLocation': 'result/queue_health.json', 'TimeThreshold': '60', 'Status': 'INITIAL'}, 'AlterTableRecommendation': {'ScriptName': 'scripts/rpr_AlterTableRecommendation.sql', 'OutputLocation': 'result/alter_table_recommendation.json', 'TimeThreshold': '60', 'Status': 'INITIAL'}, 'SpectrumPerformance': {'ScriptName': 'scripts/rpr_SpectrumPerformance.sql', 'OutputLocation': 'result/spectrum_performance.json', 'TimeThreshold': '60', 'Status': 'INITIAL'}, 'ATOWorkerActions': {'ScriptName': 'rpr_ATOWorkerActions.sql', 'OutputLocation': 'result/ato_worker_actions.json', 'TimeThreshold': '60', 'Status': 'INITIAL'}, 'ConcurrencyScalingUsage': {'ScriptName': 'rpr_ConcurrencyScalingUsage.sql', 'OutputLocation': 'result/concurrency_scaling_usage.json', 'TimeThreshold': '60', 'Status': 'INITIAL'}, 'CopyPerformance': {'ScriptName': 'rpr_CopyPerformance.sql', 'OutputLocation': 'result/copy_performance.json', 'TimeThreshold': '60', 'Status': 'INITIAL'}, 'DataShareConsumerUsage': {'ScriptName': 'rpr_DataShareConsumerUsage.sql', 'OutputLocation': 'result/data_share_consumer_usage.json', 'TimeThreshold': '60', 'Status': 'INITIAL'}, 'DataShareProducerObject': {'ScriptName': 'rpr_DataShareProducerObject.sql', 'OutputLocation': 'result/data_share_producer_object.json', 'TimeThreshold': '60', 'Status': 'INITIAL'}, 'MaterializedView': {'ScriptName': 'rpr_MaterializedView.sql', 'OutputLocation': 'result/materialized_view.json', 'TimeThreshold': '60', 'Status': 'INITIAL'}, 'TableAlerts': {'ScriptName': 'rpr_TableAlerts.sql', 'OutputLocation': 'result/table_alerts.json', 'TimeThreshold': '60', 'Status': 'INITIAL'}, 'TableInfo': {'ScriptName': 'rpr_TableInfo.sql', 'OutputLocation': 'result/table_info.json', 'TimeThreshold': '60', 'Status': 'INITIAL'}, 'Top50QueriesByDiskSpill': {'ScriptName': 'rpr_Top50QueriesByDiskSpill.sql', 'OutputLocation': 'result/top_50_queries_by_disk_spill.json', 'TimeThreshold': '60', 'Status': 'INITIAL'}, 'Top50QueriesByRunTime': {'ScriptName': 'rpr_Top50QueriesByRunTime.sql', 'OutputLocation': 'result/top_50_queries_by_run_time.json', 'TimeThreshold': '60', 'Status': 'INITIAL'}, 'UsagePattern': {'ScriptName': 'rpr_UsagePattern.sql', 'OutputLocation': 'result/usage_pattern.json', 'TimeThreshold': '60', 'Status': 'INITIAL'}, 'WaitTimeAndCount': {'ScriptName': 'rpr_WaitTimeAndCount.sql', 'OutputLocation': 'result/wait_time_and_count.json', 'TimeThreshold': '60', 'Status': 'INITIAL'}, 'WLMandCommit': {'ScriptName': 'rpr_WLMandCommit.sql', 'OutputLocation': 'result/wlm_and_commit.json', 'TimeThreshold': '60', 'Status': 'INITIAL'}, 'WLMConfig': {'ScriptName': 'rpr_WLMConfig.sql', 'OutputLocation': 'result/wlm_config.json', 'TimeThreshold': '60', 'Status': 'INITIAL'}, 'WorkloadEvaluation': {'ScriptName': 'rpr_WorkloadEvaluation.sql', 'OutputLocation': 'result/workload_evaluation.json', 'TimeThreshold': '60', 'Status': 'INITIAL'}}}\n",
      "<class 'dict'>\n",
      "scripts-logger-266726630905-us-west-2\n",
      "{'ScriptName': 'scripts/rpr_NodeDetails.sql', 'OutputLocation': 'result/node_details.json', 'ErrorLocation': 'error/', 'TimeThreshold': '60', 'Status': 'INITIAL'}\n",
      "{'NodeDetails': {'ScriptName': 'scripts/rpr_NodeDetails.sql', 'OutputLocation': 'result/node_details.json', 'TimeThreshold': '60', 'Status': 'INITIAL'}, 'QueueHealth': {'ScriptName': 'scripts/rpr_QueueHealth.sql', 'OutputLocation': 'result/queue_health.json', 'TimeThreshold': '60', 'Status': 'INITIAL'}, 'AlterTableRecommendation': {'ScriptName': 'scripts/rpr_AlterTableRecommendation.sql', 'OutputLocation': 'result/alter_table_recommendation.json', 'TimeThreshold': '60', 'Status': 'INITIAL'}, 'SpectrumPerformance': {'ScriptName': 'scripts/rpr_SpectrumPerformance.sql', 'OutputLocation': 'result/spectrum_performance.json', 'TimeThreshold': '60', 'Status': 'INITIAL'}, 'ATOWorkerActions': {'ScriptName': 'rpr_ATOWorkerActions.sql', 'OutputLocation': 'result/ato_worker_actions.json', 'TimeThreshold': '60', 'Status': 'INITIAL'}, 'ConcurrencyScalingUsage': {'ScriptName': 'rpr_ConcurrencyScalingUsage.sql', 'OutputLocation': 'result/concurrency_scaling_usage.json', 'TimeThreshold': '60', 'Status': 'INITIAL'}, 'CopyPerformance': {'ScriptName': 'rpr_CopyPerformance.sql', 'OutputLocation': 'result/copy_performance.json', 'TimeThreshold': '60', 'Status': 'INITIAL'}, 'DataShareConsumerUsage': {'ScriptName': 'rpr_DataShareConsumerUsage.sql', 'OutputLocation': 'result/data_share_consumer_usage.json', 'TimeThreshold': '60', 'Status': 'INITIAL'}, 'DataShareProducerObject': {'ScriptName': 'rpr_DataShareProducerObject.sql', 'OutputLocation': 'result/data_share_producer_object.json', 'TimeThreshold': '60', 'Status': 'INITIAL'}, 'MaterializedView': {'ScriptName': 'rpr_MaterializedView.sql', 'OutputLocation': 'result/materialized_view.json', 'TimeThreshold': '60', 'Status': 'INITIAL'}, 'TableAlerts': {'ScriptName': 'rpr_TableAlerts.sql', 'OutputLocation': 'result/table_alerts.json', 'TimeThreshold': '60', 'Status': 'INITIAL'}, 'TableInfo': {'ScriptName': 'rpr_TableInfo.sql', 'OutputLocation': 'result/table_info.json', 'TimeThreshold': '60', 'Status': 'INITIAL'}, 'Top50QueriesByDiskSpill': {'ScriptName': 'rpr_Top50QueriesByDiskSpill.sql', 'OutputLocation': 'result/top_50_queries_by_disk_spill.json', 'TimeThreshold': '60', 'Status': 'INITIAL'}, 'Top50QueriesByRunTime': {'ScriptName': 'rpr_Top50QueriesByRunTime.sql', 'OutputLocation': 'result/top_50_queries_by_run_time.json', 'TimeThreshold': '60', 'Status': 'INITIAL'}, 'UsagePattern': {'ScriptName': 'rpr_UsagePattern.sql', 'OutputLocation': 'result/usage_pattern.json', 'TimeThreshold': '60', 'Status': 'INITIAL'}, 'WaitTimeAndCount': {'ScriptName': 'rpr_WaitTimeAndCount.sql', 'OutputLocation': 'result/wait_time_and_count.json', 'TimeThreshold': '60', 'Status': 'INITIAL'}, 'WLMandCommit': {'ScriptName': 'rpr_WLMandCommit.sql', 'OutputLocation': 'result/wlm_and_commit.json', 'TimeThreshold': '60', 'Status': 'INITIAL'}, 'WLMConfig': {'ScriptName': 'rpr_WLMConfig.sql', 'OutputLocation': 'result/wlm_config.json', 'TimeThreshold': '60', 'Status': 'INITIAL'}, 'WorkloadEvaluation': {'ScriptName': 'rpr_WorkloadEvaluation.sql', 'OutputLocation': 'result/workload_evaluation.json', 'TimeThreshold': '60', 'Status': 'INITIAL'}}\n"
     ]
    }
   ],
   "source": [
    "print(state)\n",
    "print(type(state ))\n",
    "print(bucket)\n",
    "print(query)\n",
    "print(workflow)"
   ]
  },
  {
   "cell_type": "code",
   "execution_count": null,
   "metadata": {},
   "outputs": [],
   "source": [
    "import json\n",
    "s3 = boto3.client('s3')\n",
    "\n",
    "def create_csv(json_result):\n",
    "    column_metadata = data['ColumnMetadata']\n",
    "    column_narecords = data['Records']\n",
    "\n",
    "    # Write the CSV data to an in-memory buffer\n",
    "    csv_buffer = io.StringIO()\n",
    "    writer = csv.writer(csv_buffer)\n",
    "    writer.writerow(column_names)\n",
    "\n",
    "    for record in records:\n",
    "        row = []\n",
    "        for value in record:\n",
    "            if 'StringValue' in value:\n",
    "                row.append(value['StringValue'])\n",
    "            elif 'LongValue' in value:\n",
    "                row.append(str(value['LongValue']))\n",
    "        writer.writerow(row)\n"
   ]
  },
  {
   "cell_type": "code",
   "execution_count": 3,
   "metadata": {},
   "outputs": [
    {
     "data": {
      "text/plain": [
       "Session(region_name='us-west-2')"
      ]
     },
     "execution_count": 3,
     "metadata": {},
     "output_type": "execute_result"
    }
   ],
   "source": [
    "import boto3\n",
    "\n",
    "boto3.Session(profile_name=\"danakath+rev2023-adminrole1\", region_name=\"us-west-2\")\n"
   ]
  },
  {
   "cell_type": "code",
   "execution_count": 4,
   "metadata": {},
   "outputs": [
    {
     "data": {
      "text/plain": [
       "{'ResponseMetadata': {'RequestId': '61D543K11K4MGAFZ',\n",
       "  'HostId': 'isFwbS3Hz9kzC8+3kyYk4TmaoXa4z+vy1yhyLkee3MwXCT6+tH7fhoOvAAn5Pvg9g+frQaD4+ao=',\n",
       "  'HTTPStatusCode': 200,\n",
       "  'HTTPHeaders': {'x-amz-id-2': 'isFwbS3Hz9kzC8+3kyYk4TmaoXa4z+vy1yhyLkee3MwXCT6+tH7fhoOvAAn5Pvg9g+frQaD4+ao=',\n",
       "   'x-amz-request-id': '61D543K11K4MGAFZ',\n",
       "   'date': 'Wed, 19 Jun 2024 20:51:54 GMT',\n",
       "   'content-type': 'application/xml',\n",
       "   'transfer-encoding': 'chunked',\n",
       "   'server': 'AmazonS3'},\n",
       "  'RetryAttempts': 0},\n",
       " 'Buckets': [{'Name': 'amplify-amplify11d4fdae06574-staging-32958-deployment',\n",
       "   'CreationDate': datetime.datetime(2023, 12, 9, 3, 30, 14, tzinfo=tzutc())},\n",
       "  {'Name': 'amplify-awsbackupamplifyapps-dev-102258-deployment',\n",
       "   'CreationDate': datetime.datetime(2023, 7, 11, 8, 23, 9, tzinfo=tzutc())},\n",
       "  {'Name': 'amplify-d1zabx6u2ci57t-ma-amplifydataamplifycodege-0kc1lq4rn04w',\n",
       "   'CreationDate': datetime.datetime(2023, 12, 10, 18, 57, 10, tzinfo=tzutc())},\n",
       "  {'Name': 'artifacts-eu-central-1-603836437137',\n",
       "   'CreationDate': datetime.datetime(2023, 10, 27, 7, 34, 25, tzinfo=tzutc())},\n",
       "  {'Name': 'cdk-hnb659fds-assets-603836437137-us-east-1',\n",
       "   'CreationDate': datetime.datetime(2023, 10, 27, 17, 7, 1, tzinfo=tzutc())},\n",
       "  {'Name': 'cdk-hnb659fds-assets-603836437137-us-east-2',\n",
       "   'CreationDate': datetime.datetime(2023, 12, 6, 14, 55, 36, tzinfo=tzutc())},\n",
       "  {'Name': 'cf-templates-1hrwqus61xxld-eu-central-1',\n",
       "   'CreationDate': datetime.datetime(2023, 6, 2, 8, 48, 30, tzinfo=tzutc())},\n",
       "  {'Name': 'cf-templates-1hrwqus61xxld-us-east-1',\n",
       "   'CreationDate': datetime.datetime(2023, 6, 2, 8, 43, 42, tzinfo=tzutc())},\n",
       "  {'Name': 'cf-templates-1hrwqus61xxld-us-west-2',\n",
       "   'CreationDate': datetime.datetime(2023, 6, 2, 8, 45, 31, tzinfo=tzutc())},\n",
       "  {'Name': 'cloudtrail-awslogs-603836437137-3xk9sy2s-isengard-do-not-delete',\n",
       "   'CreationDate': datetime.datetime(2022, 9, 16, 23, 19, 1, tzinfo=tzutc())},\n",
       "  {'Name': 'codepipeline-us-east-1-733204990334',\n",
       "   'CreationDate': datetime.datetime(2023, 10, 27, 11, 36, 38, tzinfo=tzutc())},\n",
       "  {'Name': 'csv-file-store-7000b240',\n",
       "   'CreationDate': datetime.datetime(2023, 12, 5, 13, 37, 36, tzinfo=tzutc())},\n",
       "  {'Name': 'custom-labels-console-us-east-1-6e78bb7998',\n",
       "   'CreationDate': datetime.datetime(2022, 11, 15, 23, 31, 10, tzinfo=tzutc())},\n",
       "  {'Name': 'customlabelsdemo-webuibucket-882lwtka6shk',\n",
       "   'CreationDate': datetime.datetime(2024, 4, 23, 22, 16, 29, tzinfo=tzutc())},\n",
       "  {'Name': 'deeplens-sagemaker-5b676f9e-c994-4ffb-8ad8-58547f453958',\n",
       "   'CreationDate': datetime.datetime(2022, 11, 3, 23, 26, 42, tzinfo=tzutc())},\n",
       "  {'Name': 'do-not-delete-gatedgarden-audit-603836437137',\n",
       "   'CreationDate': datetime.datetime(2023, 3, 31, 0, 45, 18, tzinfo=tzutc())},\n",
       "  {'Name': 'kendra-files-test-29898982',\n",
       "   'CreationDate': datetime.datetime(2023, 9, 19, 22, 32, 19, tzinfo=tzutc())},\n",
       "  {'Name': 'kendra-files-test-29898999',\n",
       "   'CreationDate': datetime.datetime(2023, 9, 21, 19, 4, 22, tzinfo=tzutc())},\n",
       "  {'Name': 'kendra-files-test-30098982',\n",
       "   'CreationDate': datetime.datetime(2023, 10, 4, 13, 16, 34, tzinfo=tzutc())},\n",
       "  {'Name': 'lookoutvision-eu-west-1-6aa082885e',\n",
       "   'CreationDate': datetime.datetime(2023, 9, 18, 15, 21, 37, tzinfo=tzutc())},\n",
       "  {'Name': 'lookoutvision-us-east-1-75acfae045',\n",
       "   'CreationDate': datetime.datetime(2022, 11, 21, 0, 39, 25, tzinfo=tzutc())},\n",
       "  {'Name': 'meetup-sharing-17102023yyyxxx',\n",
       "   'CreationDate': datetime.datetime(2023, 10, 16, 18, 48, 12, tzinfo=tzutc())},\n",
       "  {'Name': 'mlops-bia-codepipeline-artifacts-dkt-308bc180',\n",
       "   'CreationDate': datetime.datetime(2023, 10, 19, 19, 39, 22, tzinfo=tzutc())},\n",
       "  {'Name': 'mlops-bia-data-dkt-308bc180',\n",
       "   'CreationDate': datetime.datetime(2023, 10, 19, 19, 39, 22, tzinfo=tzutc())},\n",
       "  {'Name': 'mlops-bia-lambda-code-dkt-35c266a0',\n",
       "   'CreationDate': datetime.datetime(2023, 10, 19, 19, 32, 24, tzinfo=tzutc())},\n",
       "  {'Name': 'mlops-bia-model-artifacts-dkt-308bc180',\n",
       "   'CreationDate': datetime.datetime(2023, 10, 19, 19, 39, 22, tzinfo=tzutc())},\n",
       "  {'Name': 'monitron-data-export-bucket-eu-eu-west-1-603836437137',\n",
       "   'CreationDate': datetime.datetime(2023, 3, 29, 20, 13, 42, tzinfo=tzutc())},\n",
       "  {'Name': 'sa-launch-bucket-us-east-1-asdqr5',\n",
       "   'CreationDate': datetime.datetime(2022, 11, 16, 17, 23, 37, tzinfo=tzutc())},\n",
       "  {'Name': 'sa-launch-bucket-us-east-1-asdqw3',\n",
       "   'CreationDate': datetime.datetime(2022, 11, 15, 23, 47, 28, tzinfo=tzutc())},\n",
       "  {'Name': 'sagemaker-eu-central-1-603836437137',\n",
       "   'CreationDate': datetime.datetime(2022, 9, 20, 13, 31, 34, tzinfo=tzutc())},\n",
       "  {'Name': 'sagemaker-eu-west-1-603836437137',\n",
       "   'CreationDate': datetime.datetime(2023, 6, 28, 5, 34, 8, tzinfo=tzutc())},\n",
       "  {'Name': 'sagemaker-project-p-gfwvdulwkavt',\n",
       "   'CreationDate': datetime.datetime(2023, 10, 19, 12, 29, 12, tzinfo=tzutc())},\n",
       "  {'Name': 'sagemaker-studio-603836437137-10sbha1edwe',\n",
       "   'CreationDate': datetime.datetime(2024, 4, 26, 9, 15, 50, tzinfo=tzutc())},\n",
       "  {'Name': 'sagemaker-studio-603836437137-c9t69mfugoo',\n",
       "   'CreationDate': datetime.datetime(2023, 3, 14, 16, 40, 5, tzinfo=tzutc())},\n",
       "  {'Name': 'sagemaker-studio-603836437137-itvln1yy3qq',\n",
       "   'CreationDate': datetime.datetime(2023, 8, 21, 19, 38, 52, tzinfo=tzutc())},\n",
       "  {'Name': 'sagemaker-studio-603836437137-pnedvt11vi',\n",
       "   'CreationDate': datetime.datetime(2023, 12, 19, 14, 30, 16, tzinfo=tzutc())},\n",
       "  {'Name': 'sagemaker-studio-603836437137-q7459sztlsl',\n",
       "   'CreationDate': datetime.datetime(2023, 6, 27, 6, 11, 22, tzinfo=tzutc())},\n",
       "  {'Name': 'sagemaker-studio-cvnzy3ei90k',\n",
       "   'CreationDate': datetime.datetime(2023, 10, 2, 12, 29, 24, tzinfo=tzutc())},\n",
       "  {'Name': 'sagemaker-studio-fsxluster-603836437137-c9t69mfugoo',\n",
       "   'CreationDate': datetime.datetime(2023, 11, 6, 14, 59, 27, tzinfo=tzutc())},\n",
       "  {'Name': 'sagemaker-studio-o3xbd7rcv0g',\n",
       "   'CreationDate': datetime.datetime(2023, 10, 9, 10, 17, 59, tzinfo=tzutc())},\n",
       "  {'Name': 'sagemaker-studio-ok915196fua',\n",
       "   'CreationDate': datetime.datetime(2023, 10, 9, 12, 28, 34, tzinfo=tzutc())},\n",
       "  {'Name': 'sagemaker-studio-ue2ic49iy4c',\n",
       "   'CreationDate': datetime.datetime(2022, 9, 20, 13, 26, 46, tzinfo=tzutc())},\n",
       "  {'Name': 'sagemaker-us-east-1-603836437137',\n",
       "   'CreationDate': datetime.datetime(2024, 4, 26, 9, 15, 53, tzinfo=tzutc())},\n",
       "  {'Name': 'sagemaker-us-west-2-603836437137',\n",
       "   'CreationDate': datetime.datetime(2023, 12, 19, 14, 30, 19, tzinfo=tzutc())},\n",
       "  {'Name': 'techdaydemo-123456-input',\n",
       "   'CreationDate': datetime.datetime(2023, 9, 22, 6, 46, 11, tzinfo=tzutc())},\n",
       "  {'Name': 'techdaydemo-123456-output',\n",
       "   'CreationDate': datetime.datetime(2023, 9, 22, 6, 43, 14, tzinfo=tzutc())},\n",
       "  {'Name': 'testanalytics-603836437137',\n",
       "   'CreationDate': datetime.datetime(2023, 4, 24, 19, 11, 9, tzinfo=tzutc())}],\n",
       " 'Owner': {'DisplayName': 'danakath+sagemaker',\n",
       "  'ID': '7e1f8e64ae1d815a4eb133e44ccf33de152e34eb84576fa76bbc45deda3d1769'}}"
      ]
     },
     "execution_count": 4,
     "metadata": {},
     "output_type": "execute_result"
    }
   ],
   "source": [
    "\n",
    "s3 = boto3.client('s3', region_name='us-west-2')\n",
    "result_bucket = \"scripts-logger-266726630905-us-west-2\"\n",
    "result_prefix = \"result/\"\n",
    "s3.list_buckets()\n"
   ]
  },
  {
   "cell_type": "code",
   "execution_count": 5,
   "metadata": {},
   "outputs": [
    {
     "ename": "ClientError",
     "evalue": "An error occurred (AccessDenied) when calling the ListObjectsV2 operation: Access Denied",
     "output_type": "error",
     "traceback": [
      "\u001b[0;31m---------------------------------------------------------------------------\u001b[0m",
      "\u001b[0;31mClientError\u001b[0m                               Traceback (most recent call last)",
      "Cell \u001b[0;32mIn[5], line 1\u001b[0m\n\u001b[0;32m----> 1\u001b[0m \u001b[38;5;28mlist\u001b[39m \u001b[38;5;241m=\u001b[39m \u001b[43ms3\u001b[49m\u001b[38;5;241;43m.\u001b[39;49m\u001b[43mlist_objects_v2\u001b[49m\u001b[43m(\u001b[49m\u001b[43mBucket\u001b[49m\u001b[38;5;241;43m=\u001b[39;49m\u001b[43mresult_bucket\u001b[49m\u001b[43m,\u001b[49m\u001b[43m \u001b[49m\u001b[43mPrefix\u001b[49m\u001b[38;5;241;43m=\u001b[39;49m\u001b[43mresult_prefix\u001b[49m\u001b[43m)\u001b[49m\n\u001b[1;32m      3\u001b[0m \u001b[38;5;28;01mfor\u001b[39;00m obj \u001b[38;5;129;01min\u001b[39;00m \u001b[38;5;28mlist\u001b[39m\u001b[38;5;241m.\u001b[39mget(\u001b[38;5;124m'\u001b[39m\u001b[38;5;124mContents\u001b[39m\u001b[38;5;124m'\u001b[39m, []):\n\u001b[1;32m      4\u001b[0m     \u001b[38;5;28;01mif\u001b[39;00m \u001b[38;5;124m\"\u001b[39m\u001b[38;5;124mjson\u001b[39m\u001b[38;5;124m\"\u001b[39m \u001b[38;5;129;01min\u001b[39;00m obj[\u001b[38;5;124m\"\u001b[39m\u001b[38;5;124mKey\u001b[39m\u001b[38;5;124m\"\u001b[39m]:\u001b[38;5;66;03m#read all the results\u001b[39;00m\n",
      "File \u001b[0;32m~/venvs/jupyter-ai-11/lib/python3.11/site-packages/botocore/client.py:565\u001b[0m, in \u001b[0;36mClientCreator._create_api_method.<locals>._api_call\u001b[0;34m(self, *args, **kwargs)\u001b[0m\n\u001b[1;32m    561\u001b[0m     \u001b[38;5;28;01mraise\u001b[39;00m \u001b[38;5;167;01mTypeError\u001b[39;00m(\n\u001b[1;32m    562\u001b[0m         \u001b[38;5;124mf\u001b[39m\u001b[38;5;124m\"\u001b[39m\u001b[38;5;132;01m{\u001b[39;00mpy_operation_name\u001b[38;5;132;01m}\u001b[39;00m\u001b[38;5;124m() only accepts keyword arguments.\u001b[39m\u001b[38;5;124m\"\u001b[39m\n\u001b[1;32m    563\u001b[0m     )\n\u001b[1;32m    564\u001b[0m \u001b[38;5;66;03m# The \"self\" in this scope is referring to the BaseClient.\u001b[39;00m\n\u001b[0;32m--> 565\u001b[0m \u001b[38;5;28;01mreturn\u001b[39;00m \u001b[38;5;28;43mself\u001b[39;49m\u001b[38;5;241;43m.\u001b[39;49m\u001b[43m_make_api_call\u001b[49m\u001b[43m(\u001b[49m\u001b[43moperation_name\u001b[49m\u001b[43m,\u001b[49m\u001b[43m \u001b[49m\u001b[43mkwargs\u001b[49m\u001b[43m)\u001b[49m\n",
      "File \u001b[0;32m~/venvs/jupyter-ai-11/lib/python3.11/site-packages/botocore/client.py:1021\u001b[0m, in \u001b[0;36mBaseClient._make_api_call\u001b[0;34m(self, operation_name, api_params)\u001b[0m\n\u001b[1;32m   1017\u001b[0m     error_code \u001b[38;5;241m=\u001b[39m error_info\u001b[38;5;241m.\u001b[39mget(\u001b[38;5;124m\"\u001b[39m\u001b[38;5;124mQueryErrorCode\u001b[39m\u001b[38;5;124m\"\u001b[39m) \u001b[38;5;129;01mor\u001b[39;00m error_info\u001b[38;5;241m.\u001b[39mget(\n\u001b[1;32m   1018\u001b[0m         \u001b[38;5;124m\"\u001b[39m\u001b[38;5;124mCode\u001b[39m\u001b[38;5;124m\"\u001b[39m\n\u001b[1;32m   1019\u001b[0m     )\n\u001b[1;32m   1020\u001b[0m     error_class \u001b[38;5;241m=\u001b[39m \u001b[38;5;28mself\u001b[39m\u001b[38;5;241m.\u001b[39mexceptions\u001b[38;5;241m.\u001b[39mfrom_code(error_code)\n\u001b[0;32m-> 1021\u001b[0m     \u001b[38;5;28;01mraise\u001b[39;00m error_class(parsed_response, operation_name)\n\u001b[1;32m   1022\u001b[0m \u001b[38;5;28;01melse\u001b[39;00m:\n\u001b[1;32m   1023\u001b[0m     \u001b[38;5;28;01mreturn\u001b[39;00m parsed_response\n",
      "\u001b[0;31mClientError\u001b[0m: An error occurred (AccessDenied) when calling the ListObjectsV2 operation: Access Denied"
     ]
    }
   ],
   "source": [
    "list = s3.list_objects_v2(Bucket=result_bucket, Prefix=result_prefix)\n",
    "\n",
    "for obj in list.get('Contents', []):\n",
    "    if \"json\" in obj[\"Key\"]:#read all the results\n",
    "        response = s3.get_object(result_bucket, obj['Key'])\n",
    "        break\n",
    "        #result = s3.put_object(result_bucket, obj['Key'].replace(\"json\",\"csv\"),\n",
    "        #                            create_csv(response['Body'].read()))\n",
    "response\n"
   ]
  },
  {
   "cell_type": "code",
   "execution_count": null,
   "metadata": {},
   "outputs": [
    {
     "name": "stdout",
     "output_type": "stream",
     "text": [
      "{'S3BucketName': 'scripts-logger-266726630905-us-west-2', 'Query': {'ScriptName': 'scripts/rpr_NodeDetails.sql', 'OutputLocation': 'result/node_details.json', 'ErrorLocation': 'error/', 'TimeThreshold': '60', 'Status': 'INITIAL'}, 'AWS_STEP_FUNCTIONS_STARTED_BY_EXECUTION_ID': 'arn:aws:states:us-west-2:266726630905:execution:MyStateMachine-ljg0xx184:617d10c1-34ab-478b-b5f0-b072e17e7f61', 'Workflow': {'NodeDetails': {'ScriptName': 'scripts/rpr_NodeDetails.sql', 'OutputLocation': 'result/node_details.json', 'TimeThreshold': '60', 'Status': 'INITIAL'}, 'QueueHealth': {'ScriptName': 'scripts/rpr_QueueHealth.sql', 'OutputLocation': 'result/queue_health.json', 'TimeThreshold': '60', 'Status': 'INITIAL'}, 'AlterTableRecommendation': {'ScriptName': 'scripts/rpr_AlterTableRecommendation.sql', 'OutputLocation': 'result/alter_table_recommendation.json', 'TimeThreshold': '60', 'Status': 'INITIAL'}, 'SpectrumPerformance': {'ScriptName': 'scripts/rpr_SpectrumPerformance.sql', 'OutputLocation': 'result/spectrum_performance.json', 'TimeThreshold': '60', 'Status': 'INITIAL'}, 'ATOWorkerActions': {'ScriptName': 'rpr_ATOWorkerActions.sql', 'OutputLocation': 'result/ato_worker_actions.json', 'TimeThreshold': '60', 'Status': 'INITIAL'}, 'ConcurrencyScalingUsage': {'ScriptName': 'rpr_ConcurrencyScalingUsage.sql', 'OutputLocation': 'result/concurrency_scaling_usage.json', 'TimeThreshold': '60', 'Status': 'INITIAL'}, 'CopyPerformance': {'ScriptName': 'rpr_CopyPerformance.sql', 'OutputLocation': 'result/copy_performance.json', 'TimeThreshold': '60', 'Status': 'INITIAL'}, 'DataShareConsumerUsage': {'ScriptName': 'rpr_DataShareConsumerUsage.sql', 'OutputLocation': 'result/data_share_consumer_usage.json', 'TimeThreshold': '60', 'Status': 'INITIAL'}, 'DataShareProducerObject': {'ScriptName': 'rpr_DataShareProducerObject.sql', 'OutputLocation': 'result/data_share_producer_object.json', 'TimeThreshold': '60', 'Status': 'INITIAL'}, 'MaterializedView': {'ScriptName': 'rpr_MaterializedView.sql', 'OutputLocation': 'result/materialized_view.json', 'TimeThreshold': '60', 'Status': 'INITIAL'}, 'TableAlerts': {'ScriptName': 'rpr_TableAlerts.sql', 'OutputLocation': 'result/table_alerts.json', 'TimeThreshold': '60', 'Status': 'INITIAL'}, 'TableInfo': {'ScriptName': 'rpr_TableInfo.sql', 'OutputLocation': 'result/table_info.json', 'TimeThreshold': '60', 'Status': 'INITIAL'}, 'Top50QueriesByDiskSpill': {'ScriptName': 'rpr_Top50QueriesByDiskSpill.sql', 'OutputLocation': 'result/top_50_queries_by_disk_spill.json', 'TimeThreshold': '60', 'Status': 'INITIAL'}, 'Top50QueriesByRunTime': {'ScriptName': 'rpr_Top50QueriesByRunTime.sql', 'OutputLocation': 'result/top_50_queries_by_run_time.json', 'TimeThreshold': '60', 'Status': 'INITIAL'}, 'UsagePattern': {'ScriptName': 'rpr_UsagePattern.sql', 'OutputLocation': 'result/usage_pattern.json', 'TimeThreshold': '60', 'Status': 'INITIAL'}, 'WaitTimeAndCount': {'ScriptName': 'rpr_WaitTimeAndCount.sql', 'OutputLocation': 'result/wait_time_and_count.json', 'TimeThreshold': '60', 'Status': 'INITIAL'}, 'WLMandCommit': {'ScriptName': 'rpr_WLMandCommit.sql', 'OutputLocation': 'result/wlm_and_commit.json', 'TimeThreshold': '60', 'Status': 'INITIAL'}, 'WLMConfig': {'ScriptName': 'rpr_WLMConfig.sql', 'OutputLocation': 'result/wlm_config.json', 'TimeThreshold': '60', 'Status': 'INITIAL'}, 'WorkloadEvaluation': {'ScriptName': 'rpr_WorkloadEvaluation.sql', 'OutputLocation': 'result/workload_evaluation.json', 'TimeThreshold': '60', 'Status': 'INITIAL'}}}\n",
      "<class 'dict'>\n",
      "scripts-logger-266726630905-us-west-2\n",
      "{'ScriptName': 'scripts/rpr_NodeDetails.sql', 'OutputLocation': 'result/node_details.json', 'ErrorLocation': 'error/', 'TimeThreshold': '60', 'Status': 'INITIAL'}\n",
      "{'NodeDetails': {'ScriptName': 'scripts/rpr_NodeDetails.sql', 'OutputLocation': 'result/node_details.json', 'TimeThreshold': '60', 'Status': 'INITIAL'}, 'QueueHealth': {'ScriptName': 'scripts/rpr_QueueHealth.sql', 'OutputLocation': 'result/queue_health.json', 'TimeThreshold': '60', 'Status': 'INITIAL'}, 'AlterTableRecommendation': {'ScriptName': 'scripts/rpr_AlterTableRecommendation.sql', 'OutputLocation': 'result/alter_table_recommendation.json', 'TimeThreshold': '60', 'Status': 'INITIAL'}, 'SpectrumPerformance': {'ScriptName': 'scripts/rpr_SpectrumPerformance.sql', 'OutputLocation': 'result/spectrum_performance.json', 'TimeThreshold': '60', 'Status': 'INITIAL'}, 'ATOWorkerActions': {'ScriptName': 'rpr_ATOWorkerActions.sql', 'OutputLocation': 'result/ato_worker_actions.json', 'TimeThreshold': '60', 'Status': 'INITIAL'}, 'ConcurrencyScalingUsage': {'ScriptName': 'rpr_ConcurrencyScalingUsage.sql', 'OutputLocation': 'result/concurrency_scaling_usage.json', 'TimeThreshold': '60', 'Status': 'INITIAL'}, 'CopyPerformance': {'ScriptName': 'rpr_CopyPerformance.sql', 'OutputLocation': 'result/copy_performance.json', 'TimeThreshold': '60', 'Status': 'INITIAL'}, 'DataShareConsumerUsage': {'ScriptName': 'rpr_DataShareConsumerUsage.sql', 'OutputLocation': 'result/data_share_consumer_usage.json', 'TimeThreshold': '60', 'Status': 'INITIAL'}, 'DataShareProducerObject': {'ScriptName': 'rpr_DataShareProducerObject.sql', 'OutputLocation': 'result/data_share_producer_object.json', 'TimeThreshold': '60', 'Status': 'INITIAL'}, 'MaterializedView': {'ScriptName': 'rpr_MaterializedView.sql', 'OutputLocation': 'result/materialized_view.json', 'TimeThreshold': '60', 'Status': 'INITIAL'}, 'TableAlerts': {'ScriptName': 'rpr_TableAlerts.sql', 'OutputLocation': 'result/table_alerts.json', 'TimeThreshold': '60', 'Status': 'INITIAL'}, 'TableInfo': {'ScriptName': 'rpr_TableInfo.sql', 'OutputLocation': 'result/table_info.json', 'TimeThreshold': '60', 'Status': 'INITIAL'}, 'Top50QueriesByDiskSpill': {'ScriptName': 'rpr_Top50QueriesByDiskSpill.sql', 'OutputLocation': 'result/top_50_queries_by_disk_spill.json', 'TimeThreshold': '60', 'Status': 'INITIAL'}, 'Top50QueriesByRunTime': {'ScriptName': 'rpr_Top50QueriesByRunTime.sql', 'OutputLocation': 'result/top_50_queries_by_run_time.json', 'TimeThreshold': '60', 'Status': 'INITIAL'}, 'UsagePattern': {'ScriptName': 'rpr_UsagePattern.sql', 'OutputLocation': 'result/usage_pattern.json', 'TimeThreshold': '60', 'Status': 'INITIAL'}, 'WaitTimeAndCount': {'ScriptName': 'rpr_WaitTimeAndCount.sql', 'OutputLocation': 'result/wait_time_and_count.json', 'TimeThreshold': '60', 'Status': 'INITIAL'}, 'WLMandCommit': {'ScriptName': 'rpr_WLMandCommit.sql', 'OutputLocation': 'result/wlm_and_commit.json', 'TimeThreshold': '60', 'Status': 'INITIAL'}, 'WLMConfig': {'ScriptName': 'rpr_WLMConfig.sql', 'OutputLocation': 'result/wlm_config.json', 'TimeThreshold': '60', 'Status': 'INITIAL'}, 'WorkloadEvaluation': {'ScriptName': 'rpr_WorkloadEvaluation.sql', 'OutputLocation': 'result/workload_evaluation.json', 'TimeThreshold': '60', 'Status': 'INITIAL'}}\n"
     ]
    }
   ],
   "source": [
    "print(state)\n",
    "print(type(state ))\n",
    "print(bucket)\n",
    "print(query)\n",
    "print(workflow)"
   ]
  },
  {
   "cell_type": "code",
   "execution_count": null,
   "metadata": {},
   "outputs": [
    {
     "name": "stdout",
     "output_type": "stream",
     "text": [
      "{'S3BucketName': 'scripts-logger-266726630905-us-west-2', 'Query': {'ScriptName': 'scripts/rpr_NodeDetails.sql', 'OutputLocation': 'result/node_details.json', 'ErrorLocation': 'error/', 'TimeThreshold': '60', 'Status': 'INITIAL'}, 'AWS_STEP_FUNCTIONS_STARTED_BY_EXECUTION_ID': 'arn:aws:states:us-west-2:266726630905:execution:MyStateMachine-ljg0xx184:617d10c1-34ab-478b-b5f0-b072e17e7f61', 'Workflow': {'NodeDetails': {'ScriptName': 'scripts/rpr_NodeDetails.sql', 'OutputLocation': 'result/node_details.json', 'TimeThreshold': '60', 'Status': 'INITIAL'}, 'QueueHealth': {'ScriptName': 'scripts/rpr_QueueHealth.sql', 'OutputLocation': 'result/queue_health.json', 'TimeThreshold': '60', 'Status': 'INITIAL'}, 'AlterTableRecommendation': {'ScriptName': 'scripts/rpr_AlterTableRecommendation.sql', 'OutputLocation': 'result/alter_table_recommendation.json', 'TimeThreshold': '60', 'Status': 'INITIAL'}, 'SpectrumPerformance': {'ScriptName': 'scripts/rpr_SpectrumPerformance.sql', 'OutputLocation': 'result/spectrum_performance.json', 'TimeThreshold': '60', 'Status': 'INITIAL'}, 'ATOWorkerActions': {'ScriptName': 'rpr_ATOWorkerActions.sql', 'OutputLocation': 'result/ato_worker_actions.json', 'TimeThreshold': '60', 'Status': 'INITIAL'}, 'ConcurrencyScalingUsage': {'ScriptName': 'rpr_ConcurrencyScalingUsage.sql', 'OutputLocation': 'result/concurrency_scaling_usage.json', 'TimeThreshold': '60', 'Status': 'INITIAL'}, 'CopyPerformance': {'ScriptName': 'rpr_CopyPerformance.sql', 'OutputLocation': 'result/copy_performance.json', 'TimeThreshold': '60', 'Status': 'INITIAL'}, 'DataShareConsumerUsage': {'ScriptName': 'rpr_DataShareConsumerUsage.sql', 'OutputLocation': 'result/data_share_consumer_usage.json', 'TimeThreshold': '60', 'Status': 'INITIAL'}, 'DataShareProducerObject': {'ScriptName': 'rpr_DataShareProducerObject.sql', 'OutputLocation': 'result/data_share_producer_object.json', 'TimeThreshold': '60', 'Status': 'INITIAL'}, 'MaterializedView': {'ScriptName': 'rpr_MaterializedView.sql', 'OutputLocation': 'result/materialized_view.json', 'TimeThreshold': '60', 'Status': 'INITIAL'}, 'TableAlerts': {'ScriptName': 'rpr_TableAlerts.sql', 'OutputLocation': 'result/table_alerts.json', 'TimeThreshold': '60', 'Status': 'INITIAL'}, 'TableInfo': {'ScriptName': 'rpr_TableInfo.sql', 'OutputLocation': 'result/table_info.json', 'TimeThreshold': '60', 'Status': 'INITIAL'}, 'Top50QueriesByDiskSpill': {'ScriptName': 'rpr_Top50QueriesByDiskSpill.sql', 'OutputLocation': 'result/top_50_queries_by_disk_spill.json', 'TimeThreshold': '60', 'Status': 'INITIAL'}, 'Top50QueriesByRunTime': {'ScriptName': 'rpr_Top50QueriesByRunTime.sql', 'OutputLocation': 'result/top_50_queries_by_run_time.json', 'TimeThreshold': '60', 'Status': 'INITIAL'}, 'UsagePattern': {'ScriptName': 'rpr_UsagePattern.sql', 'OutputLocation': 'result/usage_pattern.json', 'TimeThreshold': '60', 'Status': 'INITIAL'}, 'WaitTimeAndCount': {'ScriptName': 'rpr_WaitTimeAndCount.sql', 'OutputLocation': 'result/wait_time_and_count.json', 'TimeThreshold': '60', 'Status': 'INITIAL'}, 'WLMandCommit': {'ScriptName': 'rpr_WLMandCommit.sql', 'OutputLocation': 'result/wlm_and_commit.json', 'TimeThreshold': '60', 'Status': 'INITIAL'}, 'WLMConfig': {'ScriptName': 'rpr_WLMConfig.sql', 'OutputLocation': 'result/wlm_config.json', 'TimeThreshold': '60', 'Status': 'INITIAL'}, 'WorkloadEvaluation': {'ScriptName': 'rpr_WorkloadEvaluation.sql', 'OutputLocation': 'result/workload_evaluation.json', 'TimeThreshold': '60', 'Status': 'INITIAL'}}}\n",
      "<class 'dict'>\n",
      "scripts-logger-266726630905-us-west-2\n",
      "{'ScriptName': 'scripts/rpr_NodeDetails.sql', 'OutputLocation': 'result/node_details.json', 'ErrorLocation': 'error/', 'TimeThreshold': '60', 'Status': 'INITIAL'}\n",
      "{'NodeDetails': {'ScriptName': 'scripts/rpr_NodeDetails.sql', 'OutputLocation': 'result/node_details.json', 'TimeThreshold': '60', 'Status': 'INITIAL'}, 'QueueHealth': {'ScriptName': 'scripts/rpr_QueueHealth.sql', 'OutputLocation': 'result/queue_health.json', 'TimeThreshold': '60', 'Status': 'INITIAL'}, 'AlterTableRecommendation': {'ScriptName': 'scripts/rpr_AlterTableRecommendation.sql', 'OutputLocation': 'result/alter_table_recommendation.json', 'TimeThreshold': '60', 'Status': 'INITIAL'}, 'SpectrumPerformance': {'ScriptName': 'scripts/rpr_SpectrumPerformance.sql', 'OutputLocation': 'result/spectrum_performance.json', 'TimeThreshold': '60', 'Status': 'INITIAL'}, 'ATOWorkerActions': {'ScriptName': 'rpr_ATOWorkerActions.sql', 'OutputLocation': 'result/ato_worker_actions.json', 'TimeThreshold': '60', 'Status': 'INITIAL'}, 'ConcurrencyScalingUsage': {'ScriptName': 'rpr_ConcurrencyScalingUsage.sql', 'OutputLocation': 'result/concurrency_scaling_usage.json', 'TimeThreshold': '60', 'Status': 'INITIAL'}, 'CopyPerformance': {'ScriptName': 'rpr_CopyPerformance.sql', 'OutputLocation': 'result/copy_performance.json', 'TimeThreshold': '60', 'Status': 'INITIAL'}, 'DataShareConsumerUsage': {'ScriptName': 'rpr_DataShareConsumerUsage.sql', 'OutputLocation': 'result/data_share_consumer_usage.json', 'TimeThreshold': '60', 'Status': 'INITIAL'}, 'DataShareProducerObject': {'ScriptName': 'rpr_DataShareProducerObject.sql', 'OutputLocation': 'result/data_share_producer_object.json', 'TimeThreshold': '60', 'Status': 'INITIAL'}, 'MaterializedView': {'ScriptName': 'rpr_MaterializedView.sql', 'OutputLocation': 'result/materialized_view.json', 'TimeThreshold': '60', 'Status': 'INITIAL'}, 'TableAlerts': {'ScriptName': 'rpr_TableAlerts.sql', 'OutputLocation': 'result/table_alerts.json', 'TimeThreshold': '60', 'Status': 'INITIAL'}, 'TableInfo': {'ScriptName': 'rpr_TableInfo.sql', 'OutputLocation': 'result/table_info.json', 'TimeThreshold': '60', 'Status': 'INITIAL'}, 'Top50QueriesByDiskSpill': {'ScriptName': 'rpr_Top50QueriesByDiskSpill.sql', 'OutputLocation': 'result/top_50_queries_by_disk_spill.json', 'TimeThreshold': '60', 'Status': 'INITIAL'}, 'Top50QueriesByRunTime': {'ScriptName': 'rpr_Top50QueriesByRunTime.sql', 'OutputLocation': 'result/top_50_queries_by_run_time.json', 'TimeThreshold': '60', 'Status': 'INITIAL'}, 'UsagePattern': {'ScriptName': 'rpr_UsagePattern.sql', 'OutputLocation': 'result/usage_pattern.json', 'TimeThreshold': '60', 'Status': 'INITIAL'}, 'WaitTimeAndCount': {'ScriptName': 'rpr_WaitTimeAndCount.sql', 'OutputLocation': 'result/wait_time_and_count.json', 'TimeThreshold': '60', 'Status': 'INITIAL'}, 'WLMandCommit': {'ScriptName': 'rpr_WLMandCommit.sql', 'OutputLocation': 'result/wlm_and_commit.json', 'TimeThreshold': '60', 'Status': 'INITIAL'}, 'WLMConfig': {'ScriptName': 'rpr_WLMConfig.sql', 'OutputLocation': 'result/wlm_config.json', 'TimeThreshold': '60', 'Status': 'INITIAL'}, 'WorkloadEvaluation': {'ScriptName': 'rpr_WorkloadEvaluation.sql', 'OutputLocation': 'result/workload_evaluation.json', 'TimeThreshold': '60', 'Status': 'INITIAL'}}\n"
     ]
    }
   ],
   "source": [
    "print(state)\n",
    "print(type(state ))\n",
    "print(bucket)\n",
    "print(query)\n",
    "print(workflow)"
   ]
  },
  {
   "cell_type": "code",
   "execution_count": null,
   "metadata": {},
   "outputs": [
    {
     "name": "stdout",
     "output_type": "stream",
     "text": [
      "{'S3BucketName': 'scripts-logger-266726630905-us-west-2', 'Query': {'ScriptName': 'scripts/rpr_NodeDetails.sql', 'OutputLocation': 'result/node_details.json', 'ErrorLocation': 'error/', 'TimeThreshold': '60', 'Status': 'INITIAL'}, 'AWS_STEP_FUNCTIONS_STARTED_BY_EXECUTION_ID': 'arn:aws:states:us-west-2:266726630905:execution:MyStateMachine-ljg0xx184:617d10c1-34ab-478b-b5f0-b072e17e7f61', 'Workflow': {'NodeDetails': {'ScriptName': 'scripts/rpr_NodeDetails.sql', 'OutputLocation': 'result/node_details.json', 'TimeThreshold': '60', 'Status': 'INITIAL'}, 'QueueHealth': {'ScriptName': 'scripts/rpr_QueueHealth.sql', 'OutputLocation': 'result/queue_health.json', 'TimeThreshold': '60', 'Status': 'INITIAL'}, 'AlterTableRecommendation': {'ScriptName': 'scripts/rpr_AlterTableRecommendation.sql', 'OutputLocation': 'result/alter_table_recommendation.json', 'TimeThreshold': '60', 'Status': 'INITIAL'}, 'SpectrumPerformance': {'ScriptName': 'scripts/rpr_SpectrumPerformance.sql', 'OutputLocation': 'result/spectrum_performance.json', 'TimeThreshold': '60', 'Status': 'INITIAL'}, 'ATOWorkerActions': {'ScriptName': 'rpr_ATOWorkerActions.sql', 'OutputLocation': 'result/ato_worker_actions.json', 'TimeThreshold': '60', 'Status': 'INITIAL'}, 'ConcurrencyScalingUsage': {'ScriptName': 'rpr_ConcurrencyScalingUsage.sql', 'OutputLocation': 'result/concurrency_scaling_usage.json', 'TimeThreshold': '60', 'Status': 'INITIAL'}, 'CopyPerformance': {'ScriptName': 'rpr_CopyPerformance.sql', 'OutputLocation': 'result/copy_performance.json', 'TimeThreshold': '60', 'Status': 'INITIAL'}, 'DataShareConsumerUsage': {'ScriptName': 'rpr_DataShareConsumerUsage.sql', 'OutputLocation': 'result/data_share_consumer_usage.json', 'TimeThreshold': '60', 'Status': 'INITIAL'}, 'DataShareProducerObject': {'ScriptName': 'rpr_DataShareProducerObject.sql', 'OutputLocation': 'result/data_share_producer_object.json', 'TimeThreshold': '60', 'Status': 'INITIAL'}, 'MaterializedView': {'ScriptName': 'rpr_MaterializedView.sql', 'OutputLocation': 'result/materialized_view.json', 'TimeThreshold': '60', 'Status': 'INITIAL'}, 'TableAlerts': {'ScriptName': 'rpr_TableAlerts.sql', 'OutputLocation': 'result/table_alerts.json', 'TimeThreshold': '60', 'Status': 'INITIAL'}, 'TableInfo': {'ScriptName': 'rpr_TableInfo.sql', 'OutputLocation': 'result/table_info.json', 'TimeThreshold': '60', 'Status': 'INITIAL'}, 'Top50QueriesByDiskSpill': {'ScriptName': 'rpr_Top50QueriesByDiskSpill.sql', 'OutputLocation': 'result/top_50_queries_by_disk_spill.json', 'TimeThreshold': '60', 'Status': 'INITIAL'}, 'Top50QueriesByRunTime': {'ScriptName': 'rpr_Top50QueriesByRunTime.sql', 'OutputLocation': 'result/top_50_queries_by_run_time.json', 'TimeThreshold': '60', 'Status': 'INITIAL'}, 'UsagePattern': {'ScriptName': 'rpr_UsagePattern.sql', 'OutputLocation': 'result/usage_pattern.json', 'TimeThreshold': '60', 'Status': 'INITIAL'}, 'WaitTimeAndCount': {'ScriptName': 'rpr_WaitTimeAndCount.sql', 'OutputLocation': 'result/wait_time_and_count.json', 'TimeThreshold': '60', 'Status': 'INITIAL'}, 'WLMandCommit': {'ScriptName': 'rpr_WLMandCommit.sql', 'OutputLocation': 'result/wlm_and_commit.json', 'TimeThreshold': '60', 'Status': 'INITIAL'}, 'WLMConfig': {'ScriptName': 'rpr_WLMConfig.sql', 'OutputLocation': 'result/wlm_config.json', 'TimeThreshold': '60', 'Status': 'INITIAL'}, 'WorkloadEvaluation': {'ScriptName': 'rpr_WorkloadEvaluation.sql', 'OutputLocation': 'result/workload_evaluation.json', 'TimeThreshold': '60', 'Status': 'INITIAL'}}}\n",
      "<class 'dict'>\n",
      "scripts-logger-266726630905-us-west-2\n",
      "{'ScriptName': 'scripts/rpr_NodeDetails.sql', 'OutputLocation': 'result/node_details.json', 'ErrorLocation': 'error/', 'TimeThreshold': '60', 'Status': 'INITIAL'}\n",
      "{'NodeDetails': {'ScriptName': 'scripts/rpr_NodeDetails.sql', 'OutputLocation': 'result/node_details.json', 'TimeThreshold': '60', 'Status': 'INITIAL'}, 'QueueHealth': {'ScriptName': 'scripts/rpr_QueueHealth.sql', 'OutputLocation': 'result/queue_health.json', 'TimeThreshold': '60', 'Status': 'INITIAL'}, 'AlterTableRecommendation': {'ScriptName': 'scripts/rpr_AlterTableRecommendation.sql', 'OutputLocation': 'result/alter_table_recommendation.json', 'TimeThreshold': '60', 'Status': 'INITIAL'}, 'SpectrumPerformance': {'ScriptName': 'scripts/rpr_SpectrumPerformance.sql', 'OutputLocation': 'result/spectrum_performance.json', 'TimeThreshold': '60', 'Status': 'INITIAL'}, 'ATOWorkerActions': {'ScriptName': 'rpr_ATOWorkerActions.sql', 'OutputLocation': 'result/ato_worker_actions.json', 'TimeThreshold': '60', 'Status': 'INITIAL'}, 'ConcurrencyScalingUsage': {'ScriptName': 'rpr_ConcurrencyScalingUsage.sql', 'OutputLocation': 'result/concurrency_scaling_usage.json', 'TimeThreshold': '60', 'Status': 'INITIAL'}, 'CopyPerformance': {'ScriptName': 'rpr_CopyPerformance.sql', 'OutputLocation': 'result/copy_performance.json', 'TimeThreshold': '60', 'Status': 'INITIAL'}, 'DataShareConsumerUsage': {'ScriptName': 'rpr_DataShareConsumerUsage.sql', 'OutputLocation': 'result/data_share_consumer_usage.json', 'TimeThreshold': '60', 'Status': 'INITIAL'}, 'DataShareProducerObject': {'ScriptName': 'rpr_DataShareProducerObject.sql', 'OutputLocation': 'result/data_share_producer_object.json', 'TimeThreshold': '60', 'Status': 'INITIAL'}, 'MaterializedView': {'ScriptName': 'rpr_MaterializedView.sql', 'OutputLocation': 'result/materialized_view.json', 'TimeThreshold': '60', 'Status': 'INITIAL'}, 'TableAlerts': {'ScriptName': 'rpr_TableAlerts.sql', 'OutputLocation': 'result/table_alerts.json', 'TimeThreshold': '60', 'Status': 'INITIAL'}, 'TableInfo': {'ScriptName': 'rpr_TableInfo.sql', 'OutputLocation': 'result/table_info.json', 'TimeThreshold': '60', 'Status': 'INITIAL'}, 'Top50QueriesByDiskSpill': {'ScriptName': 'rpr_Top50QueriesByDiskSpill.sql', 'OutputLocation': 'result/top_50_queries_by_disk_spill.json', 'TimeThreshold': '60', 'Status': 'INITIAL'}, 'Top50QueriesByRunTime': {'ScriptName': 'rpr_Top50QueriesByRunTime.sql', 'OutputLocation': 'result/top_50_queries_by_run_time.json', 'TimeThreshold': '60', 'Status': 'INITIAL'}, 'UsagePattern': {'ScriptName': 'rpr_UsagePattern.sql', 'OutputLocation': 'result/usage_pattern.json', 'TimeThreshold': '60', 'Status': 'INITIAL'}, 'WaitTimeAndCount': {'ScriptName': 'rpr_WaitTimeAndCount.sql', 'OutputLocation': 'result/wait_time_and_count.json', 'TimeThreshold': '60', 'Status': 'INITIAL'}, 'WLMandCommit': {'ScriptName': 'rpr_WLMandCommit.sql', 'OutputLocation': 'result/wlm_and_commit.json', 'TimeThreshold': '60', 'Status': 'INITIAL'}, 'WLMConfig': {'ScriptName': 'rpr_WLMConfig.sql', 'OutputLocation': 'result/wlm_config.json', 'TimeThreshold': '60', 'Status': 'INITIAL'}, 'WorkloadEvaluation': {'ScriptName': 'rpr_WorkloadEvaluation.sql', 'OutputLocation': 'result/workload_evaluation.json', 'TimeThreshold': '60', 'Status': 'INITIAL'}}\n"
     ]
    }
   ],
   "source": [
    "print(state)\n",
    "print(type(state ))\n",
    "print(bucket)\n",
    "print(query)\n",
    "print(workflow)"
   ]
  },
  {
   "cell_type": "code",
   "execution_count": null,
   "metadata": {},
   "outputs": [
    {
     "name": "stdout",
     "output_type": "stream",
     "text": [
      "{'S3BucketName': 'scripts-logger-266726630905-us-west-2', 'Query': {'ScriptName': 'scripts/rpr_NodeDetails.sql', 'OutputLocation': 'result/node_details.json', 'ErrorLocation': 'error/', 'TimeThreshold': '60', 'Status': 'INITIAL'}, 'AWS_STEP_FUNCTIONS_STARTED_BY_EXECUTION_ID': 'arn:aws:states:us-west-2:266726630905:execution:MyStateMachine-ljg0xx184:617d10c1-34ab-478b-b5f0-b072e17e7f61', 'Workflow': {'NodeDetails': {'ScriptName': 'scripts/rpr_NodeDetails.sql', 'OutputLocation': 'result/node_details.json', 'TimeThreshold': '60', 'Status': 'INITIAL'}, 'QueueHealth': {'ScriptName': 'scripts/rpr_QueueHealth.sql', 'OutputLocation': 'result/queue_health.json', 'TimeThreshold': '60', 'Status': 'INITIAL'}, 'AlterTableRecommendation': {'ScriptName': 'scripts/rpr_AlterTableRecommendation.sql', 'OutputLocation': 'result/alter_table_recommendation.json', 'TimeThreshold': '60', 'Status': 'INITIAL'}, 'SpectrumPerformance': {'ScriptName': 'scripts/rpr_SpectrumPerformance.sql', 'OutputLocation': 'result/spectrum_performance.json', 'TimeThreshold': '60', 'Status': 'INITIAL'}, 'ATOWorkerActions': {'ScriptName': 'rpr_ATOWorkerActions.sql', 'OutputLocation': 'result/ato_worker_actions.json', 'TimeThreshold': '60', 'Status': 'INITIAL'}, 'ConcurrencyScalingUsage': {'ScriptName': 'rpr_ConcurrencyScalingUsage.sql', 'OutputLocation': 'result/concurrency_scaling_usage.json', 'TimeThreshold': '60', 'Status': 'INITIAL'}, 'CopyPerformance': {'ScriptName': 'rpr_CopyPerformance.sql', 'OutputLocation': 'result/copy_performance.json', 'TimeThreshold': '60', 'Status': 'INITIAL'}, 'DataShareConsumerUsage': {'ScriptName': 'rpr_DataShareConsumerUsage.sql', 'OutputLocation': 'result/data_share_consumer_usage.json', 'TimeThreshold': '60', 'Status': 'INITIAL'}, 'DataShareProducerObject': {'ScriptName': 'rpr_DataShareProducerObject.sql', 'OutputLocation': 'result/data_share_producer_object.json', 'TimeThreshold': '60', 'Status': 'INITIAL'}, 'MaterializedView': {'ScriptName': 'rpr_MaterializedView.sql', 'OutputLocation': 'result/materialized_view.json', 'TimeThreshold': '60', 'Status': 'INITIAL'}, 'TableAlerts': {'ScriptName': 'rpr_TableAlerts.sql', 'OutputLocation': 'result/table_alerts.json', 'TimeThreshold': '60', 'Status': 'INITIAL'}, 'TableInfo': {'ScriptName': 'rpr_TableInfo.sql', 'OutputLocation': 'result/table_info.json', 'TimeThreshold': '60', 'Status': 'INITIAL'}, 'Top50QueriesByDiskSpill': {'ScriptName': 'rpr_Top50QueriesByDiskSpill.sql', 'OutputLocation': 'result/top_50_queries_by_disk_spill.json', 'TimeThreshold': '60', 'Status': 'INITIAL'}, 'Top50QueriesByRunTime': {'ScriptName': 'rpr_Top50QueriesByRunTime.sql', 'OutputLocation': 'result/top_50_queries_by_run_time.json', 'TimeThreshold': '60', 'Status': 'INITIAL'}, 'UsagePattern': {'ScriptName': 'rpr_UsagePattern.sql', 'OutputLocation': 'result/usage_pattern.json', 'TimeThreshold': '60', 'Status': 'INITIAL'}, 'WaitTimeAndCount': {'ScriptName': 'rpr_WaitTimeAndCount.sql', 'OutputLocation': 'result/wait_time_and_count.json', 'TimeThreshold': '60', 'Status': 'INITIAL'}, 'WLMandCommit': {'ScriptName': 'rpr_WLMandCommit.sql', 'OutputLocation': 'result/wlm_and_commit.json', 'TimeThreshold': '60', 'Status': 'INITIAL'}, 'WLMConfig': {'ScriptName': 'rpr_WLMConfig.sql', 'OutputLocation': 'result/wlm_config.json', 'TimeThreshold': '60', 'Status': 'INITIAL'}, 'WorkloadEvaluation': {'ScriptName': 'rpr_WorkloadEvaluation.sql', 'OutputLocation': 'result/workload_evaluation.json', 'TimeThreshold': '60', 'Status': 'INITIAL'}}}\n",
      "<class 'dict'>\n",
      "scripts-logger-266726630905-us-west-2\n",
      "{'ScriptName': 'scripts/rpr_NodeDetails.sql', 'OutputLocation': 'result/node_details.json', 'ErrorLocation': 'error/', 'TimeThreshold': '60', 'Status': 'INITIAL'}\n",
      "{'NodeDetails': {'ScriptName': 'scripts/rpr_NodeDetails.sql', 'OutputLocation': 'result/node_details.json', 'TimeThreshold': '60', 'Status': 'INITIAL'}, 'QueueHealth': {'ScriptName': 'scripts/rpr_QueueHealth.sql', 'OutputLocation': 'result/queue_health.json', 'TimeThreshold': '60', 'Status': 'INITIAL'}, 'AlterTableRecommendation': {'ScriptName': 'scripts/rpr_AlterTableRecommendation.sql', 'OutputLocation': 'result/alter_table_recommendation.json', 'TimeThreshold': '60', 'Status': 'INITIAL'}, 'SpectrumPerformance': {'ScriptName': 'scripts/rpr_SpectrumPerformance.sql', 'OutputLocation': 'result/spectrum_performance.json', 'TimeThreshold': '60', 'Status': 'INITIAL'}, 'ATOWorkerActions': {'ScriptName': 'rpr_ATOWorkerActions.sql', 'OutputLocation': 'result/ato_worker_actions.json', 'TimeThreshold': '60', 'Status': 'INITIAL'}, 'ConcurrencyScalingUsage': {'ScriptName': 'rpr_ConcurrencyScalingUsage.sql', 'OutputLocation': 'result/concurrency_scaling_usage.json', 'TimeThreshold': '60', 'Status': 'INITIAL'}, 'CopyPerformance': {'ScriptName': 'rpr_CopyPerformance.sql', 'OutputLocation': 'result/copy_performance.json', 'TimeThreshold': '60', 'Status': 'INITIAL'}, 'DataShareConsumerUsage': {'ScriptName': 'rpr_DataShareConsumerUsage.sql', 'OutputLocation': 'result/data_share_consumer_usage.json', 'TimeThreshold': '60', 'Status': 'INITIAL'}, 'DataShareProducerObject': {'ScriptName': 'rpr_DataShareProducerObject.sql', 'OutputLocation': 'result/data_share_producer_object.json', 'TimeThreshold': '60', 'Status': 'INITIAL'}, 'MaterializedView': {'ScriptName': 'rpr_MaterializedView.sql', 'OutputLocation': 'result/materialized_view.json', 'TimeThreshold': '60', 'Status': 'INITIAL'}, 'TableAlerts': {'ScriptName': 'rpr_TableAlerts.sql', 'OutputLocation': 'result/table_alerts.json', 'TimeThreshold': '60', 'Status': 'INITIAL'}, 'TableInfo': {'ScriptName': 'rpr_TableInfo.sql', 'OutputLocation': 'result/table_info.json', 'TimeThreshold': '60', 'Status': 'INITIAL'}, 'Top50QueriesByDiskSpill': {'ScriptName': 'rpr_Top50QueriesByDiskSpill.sql', 'OutputLocation': 'result/top_50_queries_by_disk_spill.json', 'TimeThreshold': '60', 'Status': 'INITIAL'}, 'Top50QueriesByRunTime': {'ScriptName': 'rpr_Top50QueriesByRunTime.sql', 'OutputLocation': 'result/top_50_queries_by_run_time.json', 'TimeThreshold': '60', 'Status': 'INITIAL'}, 'UsagePattern': {'ScriptName': 'rpr_UsagePattern.sql', 'OutputLocation': 'result/usage_pattern.json', 'TimeThreshold': '60', 'Status': 'INITIAL'}, 'WaitTimeAndCount': {'ScriptName': 'rpr_WaitTimeAndCount.sql', 'OutputLocation': 'result/wait_time_and_count.json', 'TimeThreshold': '60', 'Status': 'INITIAL'}, 'WLMandCommit': {'ScriptName': 'rpr_WLMandCommit.sql', 'OutputLocation': 'result/wlm_and_commit.json', 'TimeThreshold': '60', 'Status': 'INITIAL'}, 'WLMConfig': {'ScriptName': 'rpr_WLMConfig.sql', 'OutputLocation': 'result/wlm_config.json', 'TimeThreshold': '60', 'Status': 'INITIAL'}, 'WorkloadEvaluation': {'ScriptName': 'rpr_WorkloadEvaluation.sql', 'OutputLocation': 'result/workload_evaluation.json', 'TimeThreshold': '60', 'Status': 'INITIAL'}}\n"
     ]
    }
   ],
   "source": [
    "print(state)\n",
    "print(type(state ))\n",
    "print(bucket)\n",
    "print(query)\n",
    "print(workflow)"
   ]
  },
  {
   "cell_type": "code",
   "execution_count": null,
   "metadata": {},
   "outputs": [
    {
     "name": "stdout",
     "output_type": "stream",
     "text": [
      "{'S3BucketName': 'scripts-logger-266726630905-us-west-2', 'Query': {'ScriptName': 'scripts/rpr_NodeDetails.sql', 'OutputLocation': 'result/node_details.json', 'ErrorLocation': 'error/', 'TimeThreshold': '60', 'Status': 'INITIAL'}, 'AWS_STEP_FUNCTIONS_STARTED_BY_EXECUTION_ID': 'arn:aws:states:us-west-2:266726630905:execution:MyStateMachine-ljg0xx184:617d10c1-34ab-478b-b5f0-b072e17e7f61', 'Workflow': {'NodeDetails': {'ScriptName': 'scripts/rpr_NodeDetails.sql', 'OutputLocation': 'result/node_details.json', 'TimeThreshold': '60', 'Status': 'INITIAL'}, 'QueueHealth': {'ScriptName': 'scripts/rpr_QueueHealth.sql', 'OutputLocation': 'result/queue_health.json', 'TimeThreshold': '60', 'Status': 'INITIAL'}, 'AlterTableRecommendation': {'ScriptName': 'scripts/rpr_AlterTableRecommendation.sql', 'OutputLocation': 'result/alter_table_recommendation.json', 'TimeThreshold': '60', 'Status': 'INITIAL'}, 'SpectrumPerformance': {'ScriptName': 'scripts/rpr_SpectrumPerformance.sql', 'OutputLocation': 'result/spectrum_performance.json', 'TimeThreshold': '60', 'Status': 'INITIAL'}, 'ATOWorkerActions': {'ScriptName': 'rpr_ATOWorkerActions.sql', 'OutputLocation': 'result/ato_worker_actions.json', 'TimeThreshold': '60', 'Status': 'INITIAL'}, 'ConcurrencyScalingUsage': {'ScriptName': 'rpr_ConcurrencyScalingUsage.sql', 'OutputLocation': 'result/concurrency_scaling_usage.json', 'TimeThreshold': '60', 'Status': 'INITIAL'}, 'CopyPerformance': {'ScriptName': 'rpr_CopyPerformance.sql', 'OutputLocation': 'result/copy_performance.json', 'TimeThreshold': '60', 'Status': 'INITIAL'}, 'DataShareConsumerUsage': {'ScriptName': 'rpr_DataShareConsumerUsage.sql', 'OutputLocation': 'result/data_share_consumer_usage.json', 'TimeThreshold': '60', 'Status': 'INITIAL'}, 'DataShareProducerObject': {'ScriptName': 'rpr_DataShareProducerObject.sql', 'OutputLocation': 'result/data_share_producer_object.json', 'TimeThreshold': '60', 'Status': 'INITIAL'}, 'MaterializedView': {'ScriptName': 'rpr_MaterializedView.sql', 'OutputLocation': 'result/materialized_view.json', 'TimeThreshold': '60', 'Status': 'INITIAL'}, 'TableAlerts': {'ScriptName': 'rpr_TableAlerts.sql', 'OutputLocation': 'result/table_alerts.json', 'TimeThreshold': '60', 'Status': 'INITIAL'}, 'TableInfo': {'ScriptName': 'rpr_TableInfo.sql', 'OutputLocation': 'result/table_info.json', 'TimeThreshold': '60', 'Status': 'INITIAL'}, 'Top50QueriesByDiskSpill': {'ScriptName': 'rpr_Top50QueriesByDiskSpill.sql', 'OutputLocation': 'result/top_50_queries_by_disk_spill.json', 'TimeThreshold': '60', 'Status': 'INITIAL'}, 'Top50QueriesByRunTime': {'ScriptName': 'rpr_Top50QueriesByRunTime.sql', 'OutputLocation': 'result/top_50_queries_by_run_time.json', 'TimeThreshold': '60', 'Status': 'INITIAL'}, 'UsagePattern': {'ScriptName': 'rpr_UsagePattern.sql', 'OutputLocation': 'result/usage_pattern.json', 'TimeThreshold': '60', 'Status': 'INITIAL'}, 'WaitTimeAndCount': {'ScriptName': 'rpr_WaitTimeAndCount.sql', 'OutputLocation': 'result/wait_time_and_count.json', 'TimeThreshold': '60', 'Status': 'INITIAL'}, 'WLMandCommit': {'ScriptName': 'rpr_WLMandCommit.sql', 'OutputLocation': 'result/wlm_and_commit.json', 'TimeThreshold': '60', 'Status': 'INITIAL'}, 'WLMConfig': {'ScriptName': 'rpr_WLMConfig.sql', 'OutputLocation': 'result/wlm_config.json', 'TimeThreshold': '60', 'Status': 'INITIAL'}, 'WorkloadEvaluation': {'ScriptName': 'rpr_WorkloadEvaluation.sql', 'OutputLocation': 'result/workload_evaluation.json', 'TimeThreshold': '60', 'Status': 'INITIAL'}}}\n",
      "<class 'dict'>\n",
      "scripts-logger-266726630905-us-west-2\n",
      "{'ScriptName': 'scripts/rpr_NodeDetails.sql', 'OutputLocation': 'result/node_details.json', 'ErrorLocation': 'error/', 'TimeThreshold': '60', 'Status': 'INITIAL'}\n",
      "{'NodeDetails': {'ScriptName': 'scripts/rpr_NodeDetails.sql', 'OutputLocation': 'result/node_details.json', 'TimeThreshold': '60', 'Status': 'INITIAL'}, 'QueueHealth': {'ScriptName': 'scripts/rpr_QueueHealth.sql', 'OutputLocation': 'result/queue_health.json', 'TimeThreshold': '60', 'Status': 'INITIAL'}, 'AlterTableRecommendation': {'ScriptName': 'scripts/rpr_AlterTableRecommendation.sql', 'OutputLocation': 'result/alter_table_recommendation.json', 'TimeThreshold': '60', 'Status': 'INITIAL'}, 'SpectrumPerformance': {'ScriptName': 'scripts/rpr_SpectrumPerformance.sql', 'OutputLocation': 'result/spectrum_performance.json', 'TimeThreshold': '60', 'Status': 'INITIAL'}, 'ATOWorkerActions': {'ScriptName': 'rpr_ATOWorkerActions.sql', 'OutputLocation': 'result/ato_worker_actions.json', 'TimeThreshold': '60', 'Status': 'INITIAL'}, 'ConcurrencyScalingUsage': {'ScriptName': 'rpr_ConcurrencyScalingUsage.sql', 'OutputLocation': 'result/concurrency_scaling_usage.json', 'TimeThreshold': '60', 'Status': 'INITIAL'}, 'CopyPerformance': {'ScriptName': 'rpr_CopyPerformance.sql', 'OutputLocation': 'result/copy_performance.json', 'TimeThreshold': '60', 'Status': 'INITIAL'}, 'DataShareConsumerUsage': {'ScriptName': 'rpr_DataShareConsumerUsage.sql', 'OutputLocation': 'result/data_share_consumer_usage.json', 'TimeThreshold': '60', 'Status': 'INITIAL'}, 'DataShareProducerObject': {'ScriptName': 'rpr_DataShareProducerObject.sql', 'OutputLocation': 'result/data_share_producer_object.json', 'TimeThreshold': '60', 'Status': 'INITIAL'}, 'MaterializedView': {'ScriptName': 'rpr_MaterializedView.sql', 'OutputLocation': 'result/materialized_view.json', 'TimeThreshold': '60', 'Status': 'INITIAL'}, 'TableAlerts': {'ScriptName': 'rpr_TableAlerts.sql', 'OutputLocation': 'result/table_alerts.json', 'TimeThreshold': '60', 'Status': 'INITIAL'}, 'TableInfo': {'ScriptName': 'rpr_TableInfo.sql', 'OutputLocation': 'result/table_info.json', 'TimeThreshold': '60', 'Status': 'INITIAL'}, 'Top50QueriesByDiskSpill': {'ScriptName': 'rpr_Top50QueriesByDiskSpill.sql', 'OutputLocation': 'result/top_50_queries_by_disk_spill.json', 'TimeThreshold': '60', 'Status': 'INITIAL'}, 'Top50QueriesByRunTime': {'ScriptName': 'rpr_Top50QueriesByRunTime.sql', 'OutputLocation': 'result/top_50_queries_by_run_time.json', 'TimeThreshold': '60', 'Status': 'INITIAL'}, 'UsagePattern': {'ScriptName': 'rpr_UsagePattern.sql', 'OutputLocation': 'result/usage_pattern.json', 'TimeThreshold': '60', 'Status': 'INITIAL'}, 'WaitTimeAndCount': {'ScriptName': 'rpr_WaitTimeAndCount.sql', 'OutputLocation': 'result/wait_time_and_count.json', 'TimeThreshold': '60', 'Status': 'INITIAL'}, 'WLMandCommit': {'ScriptName': 'rpr_WLMandCommit.sql', 'OutputLocation': 'result/wlm_and_commit.json', 'TimeThreshold': '60', 'Status': 'INITIAL'}, 'WLMConfig': {'ScriptName': 'rpr_WLMConfig.sql', 'OutputLocation': 'result/wlm_config.json', 'TimeThreshold': '60', 'Status': 'INITIAL'}, 'WorkloadEvaluation': {'ScriptName': 'rpr_WorkloadEvaluation.sql', 'OutputLocation': 'result/workload_evaluation.json', 'TimeThreshold': '60', 'Status': 'INITIAL'}}\n"
     ]
    }
   ],
   "source": [
    "print(state)\n",
    "print(type(state ))\n",
    "print(bucket)\n",
    "print(query)\n",
    "print(workflow)"
   ]
  },
  {
   "cell_type": "code",
   "execution_count": 61,
   "metadata": {},
   "outputs": [
    {
     "ename": "NameError",
     "evalue": "name 'true' is not defined",
     "output_type": "error",
     "traceback": [
      "\u001b[0;31m---------------------------------------------------------------------------\u001b[0m",
      "\u001b[0;31mNameError\u001b[0m                                 Traceback (most recent call last)",
      "Cell \u001b[0;32mIn[61], line 4\u001b[0m\n\u001b[1;32m      1\u001b[0m result \u001b[38;5;241m=\u001b[39m json\u001b[38;5;241m.\u001b[39mdumps({\n\u001b[1;32m      2\u001b[0m   \u001b[38;5;124m\"\u001b[39m\u001b[38;5;124mColumnMetadata\u001b[39m\u001b[38;5;124m\"\u001b[39m: [\n\u001b[1;32m      3\u001b[0m     {\n\u001b[0;32m----> 4\u001b[0m       \u001b[38;5;124m\"\u001b[39m\u001b[38;5;124mIsCaseSensitive\u001b[39m\u001b[38;5;124m\"\u001b[39m: \u001b[43mtrue\u001b[49m,\n\u001b[1;32m      5\u001b[0m       \u001b[38;5;124m\"\u001b[39m\u001b[38;5;124mIsCurrency\u001b[39m\u001b[38;5;124m\"\u001b[39m: false,\n\u001b[1;32m      6\u001b[0m       \u001b[38;5;124m\"\u001b[39m\u001b[38;5;124mIsSigned\u001b[39m\u001b[38;5;124m\"\u001b[39m: false,\n\u001b[1;32m      7\u001b[0m       \u001b[38;5;124m\"\u001b[39m\u001b[38;5;124mLabel\u001b[39m\u001b[38;5;124m\"\u001b[39m: \u001b[38;5;124m\"\u001b[39m\u001b[38;5;124mnode_type\u001b[39m\u001b[38;5;124m\"\u001b[39m,\n\u001b[1;32m      8\u001b[0m       \u001b[38;5;124m\"\u001b[39m\u001b[38;5;124mLength\u001b[39m\u001b[38;5;124m\"\u001b[39m: \u001b[38;5;241m0\u001b[39m,\n\u001b[1;32m      9\u001b[0m       \u001b[38;5;124m\"\u001b[39m\u001b[38;5;124mName\u001b[39m\u001b[38;5;124m\"\u001b[39m: \u001b[38;5;124m\"\u001b[39m\u001b[38;5;124mnode_type\u001b[39m\u001b[38;5;124m\"\u001b[39m,\n\u001b[1;32m     10\u001b[0m       \u001b[38;5;124m\"\u001b[39m\u001b[38;5;124mNullable\u001b[39m\u001b[38;5;124m\"\u001b[39m: \u001b[38;5;241m1\u001b[39m,\n\u001b[1;32m     11\u001b[0m       \u001b[38;5;124m\"\u001b[39m\u001b[38;5;124mPrecision\u001b[39m\u001b[38;5;124m\"\u001b[39m: \u001b[38;5;241m12\u001b[39m,\n\u001b[1;32m     12\u001b[0m       \u001b[38;5;124m\"\u001b[39m\u001b[38;5;124mScale\u001b[39m\u001b[38;5;124m\"\u001b[39m: \u001b[38;5;241m0\u001b[39m,\n\u001b[1;32m     13\u001b[0m       \u001b[38;5;124m\"\u001b[39m\u001b[38;5;124mSchemaName\u001b[39m\u001b[38;5;124m\"\u001b[39m: \u001b[38;5;124m\"\u001b[39m\u001b[38;5;124m\"\u001b[39m,\n\u001b[1;32m     14\u001b[0m       \u001b[38;5;124m\"\u001b[39m\u001b[38;5;124mTableName\u001b[39m\u001b[38;5;124m\"\u001b[39m: \u001b[38;5;124m\"\u001b[39m\u001b[38;5;124m\"\u001b[39m,\n\u001b[1;32m     15\u001b[0m       \u001b[38;5;124m\"\u001b[39m\u001b[38;5;124mTypeName\u001b[39m\u001b[38;5;124m\"\u001b[39m: \u001b[38;5;124m\"\u001b[39m\u001b[38;5;124mvarchar\u001b[39m\u001b[38;5;124m\"\u001b[39m\n\u001b[1;32m     16\u001b[0m     },\n\u001b[1;32m     17\u001b[0m     {\n\u001b[1;32m     18\u001b[0m       \u001b[38;5;124m\"\u001b[39m\u001b[38;5;124mIsCaseSensitive\u001b[39m\u001b[38;5;124m\"\u001b[39m: false,\n\u001b[1;32m     19\u001b[0m       \u001b[38;5;124m\"\u001b[39m\u001b[38;5;124mIsCurrency\u001b[39m\u001b[38;5;124m\"\u001b[39m: false,\n\u001b[1;32m     20\u001b[0m       \u001b[38;5;124m\"\u001b[39m\u001b[38;5;124mIsSigned\u001b[39m\u001b[38;5;124m\"\u001b[39m: true,\n\u001b[1;32m     21\u001b[0m       \u001b[38;5;124m\"\u001b[39m\u001b[38;5;124mLabel\u001b[39m\u001b[38;5;124m\"\u001b[39m: \u001b[38;5;124m\"\u001b[39m\u001b[38;5;124mnode\u001b[39m\u001b[38;5;124m\"\u001b[39m,\n\u001b[1;32m     22\u001b[0m       \u001b[38;5;124m\"\u001b[39m\u001b[38;5;124mLength\u001b[39m\u001b[38;5;124m\"\u001b[39m: \u001b[38;5;241m0\u001b[39m,\n\u001b[1;32m     23\u001b[0m       \u001b[38;5;124m\"\u001b[39m\u001b[38;5;124mName\u001b[39m\u001b[38;5;124m\"\u001b[39m: \u001b[38;5;124m\"\u001b[39m\u001b[38;5;124mnode\u001b[39m\u001b[38;5;124m\"\u001b[39m,\n\u001b[1;32m     24\u001b[0m       \u001b[38;5;124m\"\u001b[39m\u001b[38;5;124mNullable\u001b[39m\u001b[38;5;124m\"\u001b[39m: \u001b[38;5;241m0\u001b[39m,\n\u001b[1;32m     25\u001b[0m       \u001b[38;5;124m\"\u001b[39m\u001b[38;5;124mPrecision\u001b[39m\u001b[38;5;124m\"\u001b[39m: \u001b[38;5;241m10\u001b[39m,\n\u001b[1;32m     26\u001b[0m       \u001b[38;5;124m\"\u001b[39m\u001b[38;5;124mScale\u001b[39m\u001b[38;5;124m\"\u001b[39m: \u001b[38;5;241m0\u001b[39m,\n\u001b[1;32m     27\u001b[0m       \u001b[38;5;124m\"\u001b[39m\u001b[38;5;124mSchemaName\u001b[39m\u001b[38;5;124m\"\u001b[39m: \u001b[38;5;124m\"\u001b[39m\u001b[38;5;124mpg_catalog\u001b[39m\u001b[38;5;124m\"\u001b[39m,\n\u001b[1;32m     28\u001b[0m       \u001b[38;5;124m\"\u001b[39m\u001b[38;5;124mTableName\u001b[39m\u001b[38;5;124m\"\u001b[39m: \u001b[38;5;124m\"\u001b[39m\u001b[38;5;124mstv_partitions\u001b[39m\u001b[38;5;124m\"\u001b[39m,\n\u001b[1;32m     29\u001b[0m       \u001b[38;5;124m\"\u001b[39m\u001b[38;5;124mTypeName\u001b[39m\u001b[38;5;124m\"\u001b[39m: \u001b[38;5;124m\"\u001b[39m\u001b[38;5;124mint4\u001b[39m\u001b[38;5;124m\"\u001b[39m\n\u001b[1;32m     30\u001b[0m     },\n\u001b[1;32m     31\u001b[0m     {\n\u001b[1;32m     32\u001b[0m       \u001b[38;5;124m\"\u001b[39m\u001b[38;5;124mIsCaseSensitive\u001b[39m\u001b[38;5;124m\"\u001b[39m: false,\n\u001b[1;32m     33\u001b[0m       \u001b[38;5;124m\"\u001b[39m\u001b[38;5;124mIsCurrency\u001b[39m\u001b[38;5;124m\"\u001b[39m: false,\n\u001b[1;32m     34\u001b[0m       \u001b[38;5;124m\"\u001b[39m\u001b[38;5;124mIsSigned\u001b[39m\u001b[38;5;124m\"\u001b[39m: true,\n\u001b[1;32m     35\u001b[0m       \u001b[38;5;124m\"\u001b[39m\u001b[38;5;124mLabel\u001b[39m\u001b[38;5;124m\"\u001b[39m: \u001b[38;5;124m\"\u001b[39m\u001b[38;5;124mslice_count\u001b[39m\u001b[38;5;124m\"\u001b[39m,\n\u001b[1;32m     36\u001b[0m       \u001b[38;5;124m\"\u001b[39m\u001b[38;5;124mLength\u001b[39m\u001b[38;5;124m\"\u001b[39m: \u001b[38;5;241m0\u001b[39m,\n\u001b[1;32m     37\u001b[0m       \u001b[38;5;124m\"\u001b[39m\u001b[38;5;124mName\u001b[39m\u001b[38;5;124m\"\u001b[39m: \u001b[38;5;124m\"\u001b[39m\u001b[38;5;124mslice_count\u001b[39m\u001b[38;5;124m\"\u001b[39m,\n\u001b[1;32m     38\u001b[0m       \u001b[38;5;124m\"\u001b[39m\u001b[38;5;124mNullable\u001b[39m\u001b[38;5;124m\"\u001b[39m: \u001b[38;5;241m1\u001b[39m,\n\u001b[1;32m     39\u001b[0m       \u001b[38;5;124m\"\u001b[39m\u001b[38;5;124mPrecision\u001b[39m\u001b[38;5;124m\"\u001b[39m: \u001b[38;5;241m19\u001b[39m,\n\u001b[1;32m     40\u001b[0m       \u001b[38;5;124m\"\u001b[39m\u001b[38;5;124mScale\u001b[39m\u001b[38;5;124m\"\u001b[39m: \u001b[38;5;241m0\u001b[39m,\n\u001b[1;32m     41\u001b[0m       \u001b[38;5;124m\"\u001b[39m\u001b[38;5;124mSchemaName\u001b[39m\u001b[38;5;124m\"\u001b[39m: \u001b[38;5;124m\"\u001b[39m\u001b[38;5;124m\"\u001b[39m,\n\u001b[1;32m     42\u001b[0m       \u001b[38;5;124m\"\u001b[39m\u001b[38;5;124mTableName\u001b[39m\u001b[38;5;124m\"\u001b[39m: \u001b[38;5;124m\"\u001b[39m\u001b[38;5;124m\"\u001b[39m,\n\u001b[1;32m     43\u001b[0m       \u001b[38;5;124m\"\u001b[39m\u001b[38;5;124mTypeName\u001b[39m\u001b[38;5;124m\"\u001b[39m: \u001b[38;5;124m\"\u001b[39m\u001b[38;5;124mint8\u001b[39m\u001b[38;5;124m\"\u001b[39m\n\u001b[1;32m     44\u001b[0m     },\n\u001b[1;32m     45\u001b[0m     {\n\u001b[1;32m     46\u001b[0m       \u001b[38;5;124m\"\u001b[39m\u001b[38;5;124mIsCaseSensitive\u001b[39m\u001b[38;5;124m\"\u001b[39m: false,\n\u001b[1;32m     47\u001b[0m       \u001b[38;5;124m\"\u001b[39m\u001b[38;5;124mIsCurrency\u001b[39m\u001b[38;5;124m\"\u001b[39m: false,\n\u001b[1;32m     48\u001b[0m       \u001b[38;5;124m\"\u001b[39m\u001b[38;5;124mIsSigned\u001b[39m\u001b[38;5;124m\"\u001b[39m: true,\n\u001b[1;32m     49\u001b[0m       \u001b[38;5;124m\"\u001b[39m\u001b[38;5;124mLabel\u001b[39m\u001b[38;5;124m\"\u001b[39m: \u001b[38;5;124m\"\u001b[39m\u001b[38;5;124mstorage_utilization_pct\u001b[39m\u001b[38;5;124m\"\u001b[39m,\n\u001b[1;32m     50\u001b[0m       \u001b[38;5;124m\"\u001b[39m\u001b[38;5;124mLength\u001b[39m\u001b[38;5;124m\"\u001b[39m: \u001b[38;5;241m0\u001b[39m,\n\u001b[1;32m     51\u001b[0m       \u001b[38;5;124m\"\u001b[39m\u001b[38;5;124mName\u001b[39m\u001b[38;5;124m\"\u001b[39m: \u001b[38;5;124m\"\u001b[39m\u001b[38;5;124mstorage_utilization_pct\u001b[39m\u001b[38;5;124m\"\u001b[39m,\n\u001b[1;32m     52\u001b[0m       \u001b[38;5;124m\"\u001b[39m\u001b[38;5;124mNullable\u001b[39m\u001b[38;5;124m\"\u001b[39m: \u001b[38;5;241m1\u001b[39m,\n\u001b[1;32m     53\u001b[0m       \u001b[38;5;124m\"\u001b[39m\u001b[38;5;124mPrecision\u001b[39m\u001b[38;5;124m\"\u001b[39m: \u001b[38;5;241m12\u001b[39m,\n\u001b[1;32m     54\u001b[0m       \u001b[38;5;124m\"\u001b[39m\u001b[38;5;124mScale\u001b[39m\u001b[38;5;124m\"\u001b[39m: \u001b[38;5;241m4\u001b[39m,\n\u001b[1;32m     55\u001b[0m       \u001b[38;5;124m\"\u001b[39m\u001b[38;5;124mSchemaName\u001b[39m\u001b[38;5;124m\"\u001b[39m: \u001b[38;5;124m\"\u001b[39m\u001b[38;5;124m\"\u001b[39m,\n\u001b[1;32m     56\u001b[0m       \u001b[38;5;124m\"\u001b[39m\u001b[38;5;124mTableName\u001b[39m\u001b[38;5;124m\"\u001b[39m: \u001b[38;5;124m\"\u001b[39m\u001b[38;5;124m\"\u001b[39m,\n\u001b[1;32m     57\u001b[0m       \u001b[38;5;124m\"\u001b[39m\u001b[38;5;124mTypeName\u001b[39m\u001b[38;5;124m\"\u001b[39m: \u001b[38;5;124m\"\u001b[39m\u001b[38;5;124mnumeric\u001b[39m\u001b[38;5;124m\"\u001b[39m\n\u001b[1;32m     58\u001b[0m     },\n\u001b[1;32m     59\u001b[0m     {\n\u001b[1;32m     60\u001b[0m       \u001b[38;5;124m\"\u001b[39m\u001b[38;5;124mIsCaseSensitive\u001b[39m\u001b[38;5;124m\"\u001b[39m: false,\n\u001b[1;32m     61\u001b[0m       \u001b[38;5;124m\"\u001b[39m\u001b[38;5;124mIsCurrency\u001b[39m\u001b[38;5;124m\"\u001b[39m: false,\n\u001b[1;32m     62\u001b[0m       \u001b[38;5;124m\"\u001b[39m\u001b[38;5;124mIsSigned\u001b[39m\u001b[38;5;124m\"\u001b[39m: true,\n\u001b[1;32m     63\u001b[0m       \u001b[38;5;124m\"\u001b[39m\u001b[38;5;124mLabel\u001b[39m\u001b[38;5;124m\"\u001b[39m: \u001b[38;5;124m\"\u001b[39m\u001b[38;5;124mstorage_capacity_gb\u001b[39m\u001b[38;5;124m\"\u001b[39m,\n\u001b[1;32m     64\u001b[0m       \u001b[38;5;124m\"\u001b[39m\u001b[38;5;124mLength\u001b[39m\u001b[38;5;124m\"\u001b[39m: \u001b[38;5;241m0\u001b[39m,\n\u001b[1;32m     65\u001b[0m       \u001b[38;5;124m\"\u001b[39m\u001b[38;5;124mName\u001b[39m\u001b[38;5;124m\"\u001b[39m: \u001b[38;5;124m\"\u001b[39m\u001b[38;5;124mstorage_capacity_gb\u001b[39m\u001b[38;5;124m\"\u001b[39m,\n\u001b[1;32m     66\u001b[0m       \u001b[38;5;124m\"\u001b[39m\u001b[38;5;124mNullable\u001b[39m\u001b[38;5;124m\"\u001b[39m: \u001b[38;5;241m1\u001b[39m,\n\u001b[1;32m     67\u001b[0m       \u001b[38;5;124m\"\u001b[39m\u001b[38;5;124mPrecision\u001b[39m\u001b[38;5;124m\"\u001b[39m: \u001b[38;5;241m27\u001b[39m,\n\u001b[1;32m     68\u001b[0m       \u001b[38;5;124m\"\u001b[39m\u001b[38;5;124mScale\u001b[39m\u001b[38;5;124m\"\u001b[39m: \u001b[38;5;241m6\u001b[39m,\n\u001b[1;32m     69\u001b[0m       \u001b[38;5;124m\"\u001b[39m\u001b[38;5;124mSchemaName\u001b[39m\u001b[38;5;124m\"\u001b[39m: \u001b[38;5;124m\"\u001b[39m\u001b[38;5;124m\"\u001b[39m,\n\u001b[1;32m     70\u001b[0m       \u001b[38;5;124m\"\u001b[39m\u001b[38;5;124mTableName\u001b[39m\u001b[38;5;124m\"\u001b[39m: \u001b[38;5;124m\"\u001b[39m\u001b[38;5;124m\"\u001b[39m,\n\u001b[1;32m     71\u001b[0m       \u001b[38;5;124m\"\u001b[39m\u001b[38;5;124mTypeName\u001b[39m\u001b[38;5;124m\"\u001b[39m: \u001b[38;5;124m\"\u001b[39m\u001b[38;5;124mnumeric\u001b[39m\u001b[38;5;124m\"\u001b[39m\n\u001b[1;32m     72\u001b[0m     },\n\u001b[1;32m     73\u001b[0m     {\n\u001b[1;32m     74\u001b[0m       \u001b[38;5;124m\"\u001b[39m\u001b[38;5;124mIsCaseSensitive\u001b[39m\u001b[38;5;124m\"\u001b[39m: false,\n\u001b[1;32m     75\u001b[0m       \u001b[38;5;124m\"\u001b[39m\u001b[38;5;124mIsCurrency\u001b[39m\u001b[38;5;124m\"\u001b[39m: false,\n\u001b[1;32m     76\u001b[0m       \u001b[38;5;124m\"\u001b[39m\u001b[38;5;124mIsSigned\u001b[39m\u001b[38;5;124m\"\u001b[39m: true,\n\u001b[1;32m     77\u001b[0m       \u001b[38;5;124m\"\u001b[39m\u001b[38;5;124mLabel\u001b[39m\u001b[38;5;124m\"\u001b[39m: \u001b[38;5;124m\"\u001b[39m\u001b[38;5;124mstorage_used_gb\u001b[39m\u001b[38;5;124m\"\u001b[39m,\n\u001b[1;32m     78\u001b[0m       \u001b[38;5;124m\"\u001b[39m\u001b[38;5;124mLength\u001b[39m\u001b[38;5;124m\"\u001b[39m: \u001b[38;5;241m0\u001b[39m,\n\u001b[1;32m     79\u001b[0m       \u001b[38;5;124m\"\u001b[39m\u001b[38;5;124mName\u001b[39m\u001b[38;5;124m\"\u001b[39m: \u001b[38;5;124m\"\u001b[39m\u001b[38;5;124mstorage_used_gb\u001b[39m\u001b[38;5;124m\"\u001b[39m,\n\u001b[1;32m     80\u001b[0m       \u001b[38;5;124m\"\u001b[39m\u001b[38;5;124mNullable\u001b[39m\u001b[38;5;124m\"\u001b[39m: \u001b[38;5;241m1\u001b[39m,\n\u001b[1;32m     81\u001b[0m       \u001b[38;5;124m\"\u001b[39m\u001b[38;5;124mPrecision\u001b[39m\u001b[38;5;124m\"\u001b[39m: \u001b[38;5;241m27\u001b[39m,\n\u001b[1;32m     82\u001b[0m       \u001b[38;5;124m\"\u001b[39m\u001b[38;5;124mScale\u001b[39m\u001b[38;5;124m\"\u001b[39m: \u001b[38;5;241m6\u001b[39m,\n\u001b[1;32m     83\u001b[0m       \u001b[38;5;124m\"\u001b[39m\u001b[38;5;124mSchemaName\u001b[39m\u001b[38;5;124m\"\u001b[39m: \u001b[38;5;124m\"\u001b[39m\u001b[38;5;124m\"\u001b[39m,\n\u001b[1;32m     84\u001b[0m       \u001b[38;5;124m\"\u001b[39m\u001b[38;5;124mTableName\u001b[39m\u001b[38;5;124m\"\u001b[39m: \u001b[38;5;124m\"\u001b[39m\u001b[38;5;124m\"\u001b[39m,\n\u001b[1;32m     85\u001b[0m       \u001b[38;5;124m\"\u001b[39m\u001b[38;5;124mTypeName\u001b[39m\u001b[38;5;124m\"\u001b[39m: \u001b[38;5;124m\"\u001b[39m\u001b[38;5;124mnumeric\u001b[39m\u001b[38;5;124m\"\u001b[39m\n\u001b[1;32m     86\u001b[0m     }\n\u001b[1;32m     87\u001b[0m   ],\n\u001b[1;32m     88\u001b[0m   \u001b[38;5;124m\"\u001b[39m\u001b[38;5;124mRecords\u001b[39m\u001b[38;5;124m\"\u001b[39m: [\n\u001b[1;32m     89\u001b[0m     [\n\u001b[1;32m     90\u001b[0m       {\n\u001b[1;32m     91\u001b[0m         \u001b[38;5;124m\"\u001b[39m\u001b[38;5;124mStringValue\u001b[39m\u001b[38;5;124m\"\u001b[39m: \u001b[38;5;124m\"\u001b[39m\u001b[38;5;124munknown\u001b[39m\u001b[38;5;124m\"\u001b[39m\n\u001b[1;32m     92\u001b[0m       },\n\u001b[1;32m     93\u001b[0m       {\n\u001b[1;32m     94\u001b[0m         \u001b[38;5;124m\"\u001b[39m\u001b[38;5;124mLongValue\u001b[39m\u001b[38;5;124m\"\u001b[39m: \u001b[38;5;241m0\u001b[39m\n\u001b[1;32m     95\u001b[0m       },\n\u001b[1;32m     96\u001b[0m       {\n\u001b[1;32m     97\u001b[0m         \u001b[38;5;124m\"\u001b[39m\u001b[38;5;124mLongValue\u001b[39m\u001b[38;5;124m\"\u001b[39m: \u001b[38;5;241m2\u001b[39m\n\u001b[1;32m     98\u001b[0m       },\n\u001b[1;32m     99\u001b[0m       {\n\u001b[1;32m    100\u001b[0m         \u001b[38;5;124m\"\u001b[39m\u001b[38;5;124mStringValue\u001b[39m\u001b[38;5;124m\"\u001b[39m: \u001b[38;5;124m\"\u001b[39m\u001b[38;5;124m0.0000\u001b[39m\u001b[38;5;124m\"\u001b[39m\n\u001b[1;32m    101\u001b[0m       },\n\u001b[1;32m    102\u001b[0m       {\n\u001b[1;32m    103\u001b[0m         \u001b[38;5;124m\"\u001b[39m\u001b[38;5;124mStringValue\u001b[39m\u001b[38;5;124m\"\u001b[39m: \u001b[38;5;124m\"\u001b[39m\u001b[38;5;124m32000.000000\u001b[39m\u001b[38;5;124m\"\u001b[39m\n\u001b[1;32m    104\u001b[0m       },\n\u001b[1;32m    105\u001b[0m       {\n\u001b[1;32m    106\u001b[0m         \u001b[38;5;124m\"\u001b[39m\u001b[38;5;124mStringValue\u001b[39m\u001b[38;5;124m\"\u001b[39m: \u001b[38;5;124m\"\u001b[39m\u001b[38;5;124m0.704000\u001b[39m\u001b[38;5;124m\"\u001b[39m\n\u001b[1;32m    107\u001b[0m       }\n\u001b[1;32m    108\u001b[0m     ],\n\u001b[1;32m    109\u001b[0m     [\n\u001b[1;32m    110\u001b[0m       {\n\u001b[1;32m    111\u001b[0m         \u001b[38;5;124m\"\u001b[39m\u001b[38;5;124mStringValue\u001b[39m\u001b[38;5;124m\"\u001b[39m: \u001b[38;5;124m\"\u001b[39m\u001b[38;5;124munknown\u001b[39m\u001b[38;5;124m\"\u001b[39m\n\u001b[1;32m    112\u001b[0m       },\n\u001b[1;32m    113\u001b[0m       {\n\u001b[1;32m    114\u001b[0m         \u001b[38;5;124m\"\u001b[39m\u001b[38;5;124mLongValue\u001b[39m\u001b[38;5;124m\"\u001b[39m: \u001b[38;5;241m1\u001b[39m\n\u001b[1;32m    115\u001b[0m       },\n\u001b[1;32m    116\u001b[0m       {\n\u001b[1;32m    117\u001b[0m         \u001b[38;5;124m\"\u001b[39m\u001b[38;5;124mLongValue\u001b[39m\u001b[38;5;124m\"\u001b[39m: \u001b[38;5;241m2\u001b[39m\n\u001b[1;32m    118\u001b[0m       },\n\u001b[1;32m    119\u001b[0m       {\n\u001b[1;32m    120\u001b[0m         \u001b[38;5;124m\"\u001b[39m\u001b[38;5;124mStringValue\u001b[39m\u001b[38;5;124m\"\u001b[39m: \u001b[38;5;124m\"\u001b[39m\u001b[38;5;124m0.0000\u001b[39m\u001b[38;5;124m\"\u001b[39m\n\u001b[1;32m    121\u001b[0m       },\n\u001b[1;32m    122\u001b[0m       {\n\u001b[1;32m    123\u001b[0m         \u001b[38;5;124m\"\u001b[39m\u001b[38;5;124mStringValue\u001b[39m\u001b[38;5;124m\"\u001b[39m: \u001b[38;5;124m\"\u001b[39m\u001b[38;5;124m32000.000000\u001b[39m\u001b[38;5;124m\"\u001b[39m\n\u001b[1;32m    124\u001b[0m       },\n\u001b[1;32m    125\u001b[0m       {\n\u001b[1;32m    126\u001b[0m         \u001b[38;5;124m\"\u001b[39m\u001b[38;5;124mStringValue\u001b[39m\u001b[38;5;124m\"\u001b[39m: \u001b[38;5;124m\"\u001b[39m\u001b[38;5;124m0.667000\u001b[39m\u001b[38;5;124m\"\u001b[39m\n\u001b[1;32m    127\u001b[0m       }\n\u001b[1;32m    128\u001b[0m     ]\n\u001b[1;32m    129\u001b[0m   ],\n\u001b[1;32m    130\u001b[0m   \u001b[38;5;124m\"\u001b[39m\u001b[38;5;124mTotalNumRows\u001b[39m\u001b[38;5;124m\"\u001b[39m: \u001b[38;5;241m2\u001b[39m\n\u001b[1;32m    131\u001b[0m })\n\u001b[1;32m    132\u001b[0m result \u001b[38;5;241m=\u001b[39m result\u001b[38;5;241m.\u001b[39mreplace(\u001b[38;5;124m\"\u001b[39m\u001b[38;5;124mtrue\u001b[39m\u001b[38;5;124m\"\u001b[39m,\u001b[38;5;124m\"\u001b[39m\u001b[38;5;124mTrue\u001b[39m\u001b[38;5;124m\"\u001b[39m)\u001b[38;5;241m.\u001b[39mreplace(\u001b[38;5;124m\"\u001b[39m\u001b[38;5;124mfalse\u001b[39m\u001b[38;5;124m\"\u001b[39m,\u001b[38;5;124m\"\u001b[39m\u001b[38;5;124mFalse\u001b[39m\u001b[38;5;124m\"\u001b[39m)\n",
      "\u001b[0;31mNameError\u001b[0m: name 'true' is not defined"
     ]
    }
   ],
   "source": [
    "result = json.dumps({\n",
    "  \"ColumnMetadata\": [\n",
    "    {\n",
    "      \"IsCaseSensitive\": true,\n",
    "      \"IsCurrency\": false,\n",
    "      \"IsSigned\": false,\n",
    "      \"Label\": \"node_type\",\n",
    "      \"Length\": 0,\n",
    "      \"Name\": \"node_type\",\n",
    "      \"Nullable\": 1,\n",
    "      \"Precision\": 12,\n",
    "      \"Scale\": 0,\n",
    "      \"SchemaName\": \"\",\n",
    "      \"TableName\": \"\",\n",
    "      \"TypeName\": \"varchar\"\n",
    "    },\n",
    "    {\n",
    "      \"IsCaseSensitive\": false,\n",
    "      \"IsCurrency\": false,\n",
    "      \"IsSigned\": true,\n",
    "      \"Label\": \"node\",\n",
    "      \"Length\": 0,\n",
    "      \"Name\": \"node\",\n",
    "      \"Nullable\": 0,\n",
    "      \"Precision\": 10,\n",
    "      \"Scale\": 0,\n",
    "      \"SchemaName\": \"pg_catalog\",\n",
    "      \"TableName\": \"stv_partitions\",\n",
    "      \"TypeName\": \"int4\"\n",
    "    },\n",
    "    {\n",
    "      \"IsCaseSensitive\": false,\n",
    "      \"IsCurrency\": false,\n",
    "      \"IsSigned\": true,\n",
    "      \"Label\": \"slice_count\",\n",
    "      \"Length\": 0,\n",
    "      \"Name\": \"slice_count\",\n",
    "      \"Nullable\": 1,\n",
    "      \"Precision\": 19,\n",
    "      \"Scale\": 0,\n",
    "      \"SchemaName\": \"\",\n",
    "      \"TableName\": \"\",\n",
    "      \"TypeName\": \"int8\"\n",
    "    },\n",
    "    {\n",
    "      \"IsCaseSensitive\": false,\n",
    "      \"IsCurrency\": false,\n",
    "      \"IsSigned\": true,\n",
    "      \"Label\": \"storage_utilization_pct\",\n",
    "      \"Length\": 0,\n",
    "      \"Name\": \"storage_utilization_pct\",\n",
    "      \"Nullable\": 1,\n",
    "      \"Precision\": 12,\n",
    "      \"Scale\": 4,\n",
    "      \"SchemaName\": \"\",\n",
    "      \"TableName\": \"\",\n",
    "      \"TypeName\": \"numeric\"\n",
    "    },\n",
    "    {\n",
    "      \"IsCaseSensitive\": false,\n",
    "      \"IsCurrency\": false,\n",
    "      \"IsSigned\": true,\n",
    "      \"Label\": \"storage_capacity_gb\",\n",
    "      \"Length\": 0,\n",
    "      \"Name\": \"storage_capacity_gb\",\n",
    "      \"Nullable\": 1,\n",
    "      \"Precision\": 27,\n",
    "      \"Scale\": 6,\n",
    "      \"SchemaName\": \"\",\n",
    "      \"TableName\": \"\",\n",
    "      \"TypeName\": \"numeric\"\n",
    "    },\n",
    "    {\n",
    "      \"IsCaseSensitive\": false,\n",
    "      \"IsCurrency\": false,\n",
    "      \"IsSigned\": true,\n",
    "      \"Label\": \"storage_used_gb\",\n",
    "      \"Length\": 0,\n",
    "      \"Name\": \"storage_used_gb\",\n",
    "      \"Nullable\": 1,\n",
    "      \"Precision\": 27,\n",
    "      \"Scale\": 6,\n",
    "      \"SchemaName\": \"\",\n",
    "      \"TableName\": \"\",\n",
    "      \"TypeName\": \"numeric\"\n",
    "    }\n",
    "  ],\n",
    "  \"Records\": [\n",
    "    [\n",
    "      {\n",
    "        \"StringValue\": \"unknown\"\n",
    "      },\n",
    "      {\n",
    "        \"LongValue\": 0\n",
    "      },\n",
    "      {\n",
    "        \"LongValue\": 2\n",
    "      },\n",
    "      {\n",
    "        \"StringValue\": \"0.0000\"\n",
    "      },\n",
    "      {\n",
    "        \"StringValue\": \"32000.000000\"\n",
    "      },\n",
    "      {\n",
    "        \"StringValue\": \"0.704000\"\n",
    "      }\n",
    "    ],\n",
    "    [\n",
    "      {\n",
    "        \"StringValue\": \"unknown\"\n",
    "      },\n",
    "      {\n",
    "        \"LongValue\": 1\n",
    "      },\n",
    "      {\n",
    "        \"LongValue\": 2\n",
    "      },\n",
    "      {\n",
    "        \"StringValue\": \"0.0000\"\n",
    "      },\n",
    "      {\n",
    "        \"StringValue\": \"32000.000000\"\n",
    "      },\n",
    "      {\n",
    "        \"StringValue\": \"0.667000\"\n",
    "      }\n",
    "    ]\n",
    "  ],\n",
    "  \"TotalNumRows\": 2\n",
    "})\n",
    "result = result.replace(\"true\",\"True\").replace(\"false\",\"False\")"
   ]
  },
  {
   "cell_type": "code",
   "execution_count": null,
   "metadata": {},
   "outputs": [],
   "source": [
    "import csv\n",
    "import json\n",
    "\n",
    "# Load the JSON data\n",
    "\n",
    "# Extract the column metadata\n",
    "column_metadata = data['ColumnMetadata']\n",
    "column_names = [column['Name'] for column in column_metadata]\n",
    "\n",
    "# Extract the records\n",
    "records = data['Records']\n",
    "\n",
    "# Write the CSV file\n",
    "with open('output.csv', 'w', newline='') as csvfile:\n",
    "    writer = csv.writer(csvfile)\n",
    "    writer.writerow(column_names)\n",
    "\n",
    "    for record in records:\n",
    "        row = []\n",
    "        for value in record:\n",
    "            if 'StringValue' in value:\n",
    "                row.append(value['StringValue'])\n",
    "            elif 'LongValue' in value:\n",
    "                row.append(str(value['LongValue']))\n",
    "        writer.writerow(row)"
   ]
  }
 ],
 "metadata": {
  "kernelspec": {
   "display_name": "Python (jupyter-ai)",
   "language": "python",
   "name": "jupyter-ai"
  },
  "language_info": {
   "codemirror_mode": {
    "name": "ipython",
    "version": 3
   },
   "file_extension": ".py",
   "mimetype": "text/x-python",
   "name": "python",
   "nbconvert_exporter": "python",
   "pygments_lexer": "ipython3",
   "version": "3.11.8"
  }
 },
 "nbformat": 4,
 "nbformat_minor": 2
}
